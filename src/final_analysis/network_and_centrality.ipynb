{
 "cells": [
  {
   "cell_type": "code",
   "execution_count": 63,
   "metadata": {},
   "outputs": [],
   "source": [
    "import igraph as ig\n",
    "import utils\n",
    "import numpy as np\n",
    "import matplotlib.pyplot as plt\n",
    "import pandas as pd"
   ]
  },
  {
   "cell_type": "code",
   "execution_count": 64,
   "metadata": {},
   "outputs": [],
   "source": [
    "period = 'april2022'\n",
    "full_graph_path = f'../../data/graphs/{period}_Lspace.graphml'\n",
    "g = ig.Graph.Read(full_graph_path)"
   ]
  },
  {
   "cell_type": "code",
   "execution_count": 65,
   "metadata": {},
   "outputs": [],
   "source": [
    "VISUAL_STYLE = {\n",
    "    'layout': utils.layout_geo(g),\n",
    "    'bbox': (0, 0, 1000, 1000),\n",
    "}"
   ]
  },
  {
   "cell_type": "markdown",
   "metadata": {},
   "source": [
    "# Network Analysis"
   ]
  },
  {
   "cell_type": "markdown",
   "metadata": {},
   "source": [
    "### Average Degree"
   ]
  },
  {
   "cell_type": "code",
   "execution_count": 66,
   "metadata": {},
   "outputs": [
    {
     "data": {
      "text/plain": [
       "2.7406542056074765"
      ]
     },
     "execution_count": 66,
     "metadata": {},
     "output_type": "execute_result"
    }
   ],
   "source": [
    "average_degree = g.ecount() / g.vcount()\n",
    "average_degree"
   ]
  },
  {
   "cell_type": "markdown",
   "metadata": {},
   "source": [
    "### Degree distribution"
   ]
  },
  {
   "cell_type": "code",
   "execution_count": 67,
   "metadata": {},
   "outputs": [
    {
     "data": {
      "image/png": "[encoded data removed]",
      "text/plain": [
       "<Figure size 432x288 with 1 Axes>"
      ]
     },
     "metadata": {
      "needs_background": "light"
     },
     "output_type": "display_data"
    }
   ],
   "source": [
    "bins = len([val for bin1, bin2, val in g.degree_distribution().bins()])\n",
    "plt.hist(g.degree(), bins)\n",
    "plt.show()"
   ]
  },
  {
   "cell_type": "markdown",
   "metadata": {},
   "source": [
    "### Diameter"
   ]
  },
  {
   "cell_type": "code",
   "execution_count": 68,
   "metadata": {},
   "outputs": [
    {
     "data": {
      "text/plain": [
       "26"
      ]
     },
     "execution_count": 68,
     "metadata": {},
     "output_type": "execute_result"
    }
   ],
   "source": [
    "g.diameter()"
   ]
  },
  {
   "cell_type": "markdown",
   "metadata": {},
   "source": [
    "### Average path lenght/distance"
   ]
  },
  {
   "cell_type": "code",
   "execution_count": 69,
   "metadata": {},
   "outputs": [
    {
     "data": {
      "text/plain": [
       "9.527041776129963"
      ]
     },
     "execution_count": 69,
     "metadata": {},
     "output_type": "execute_result"
    }
   ],
   "source": [
    "g.average_path_length()"
   ]
  },
  {
   "cell_type": "markdown",
   "metadata": {},
   "source": [
    "### Clustering coeff\n",
    "Grado in cui i vicini di un dato nodo si collegano tra loro ([0-1]):\n",
    "* 0: nessun collegamento tra i vicini\n",
    "* 1: i vicini formano un grafo completo\n",
    "\n",
    "Abbiamo molti nodi con grado basso ma coeff alto (spoke), quindi questi nodi fanno parte di una componente locale di vicinato molto densa, mentre i vicini degli hub sono molto più sparsi (parte bassa a destra)."
   ]
  },
  {
   "cell_type": "code",
   "execution_count": 70,
   "metadata": {},
   "outputs": [
    {
     "data": {
      "image/png": "[encoded data removed]",
      "text/plain": [
       "<Figure size 432x288 with 1 Axes>"
      ]
     },
     "metadata": {
      "needs_background": "light"
     },
     "output_type": "display_data"
    }
   ],
   "source": [
    "# TODO: Sarebbe più interessante al massimo verificarla per un nodo d'interesse\n",
    "#g.transitivity_avglocal_undirected()\n",
    "\n",
    "fig = plt.figure()\n",
    "ax = plt.gca()\n",
    "ax.scatter(g.degree(), g.transitivity_local_undirected())\n",
    "ax.set_xlabel(\"k\")\n",
    "ax.set_ylabel(\"C(k)\")\n",
    "ax.set_yscale('log')\n",
    "# ax.set_xscale('log')"
   ]
  },
  {
   "cell_type": "markdown",
   "metadata": {},
   "source": [
    "# Importanza delle stazioni"
   ]
  },
  {
   "cell_type": "markdown",
   "metadata": {},
   "source": [
    "### Degree centrality"
   ]
  },
  {
   "cell_type": "code",
   "execution_count": 71,
   "metadata": {},
   "outputs": [
    {
     "name": "stdout",
     "output_type": "stream",
     "text": [
      "Top 10 vertex by indegree_centrality:\n",
      "label: MILANO LAMBRATE, indegree_centrality: 11\n",
      "label: SARONNO, indegree_centrality: 10\n",
      "label: RHO FIERA, indegree_centrality: 10\n",
      "label: MONZA, indegree_centrality: 10\n",
      "label: TREVIGLIO, indegree_centrality: 10\n",
      "label: BRESCIA, indegree_centrality: 9\n",
      "label: MILANO PORTA GARIBALDI, indegree_centrality: 9\n",
      "label: MILANO ROGOREDO, indegree_centrality: 8\n",
      "label: GALLARATE, indegree_centrality: 8\n",
      "label: LECCO, indegree_centrality: 8\n"
     ]
    },
    {
     "name": "stderr",
     "output_type": "stream",
     "text": [
      "/tmp/ipykernel_599/4255316187.py:1: DeprecationWarning: Partial string matches of enum members are deprecated since igraph 0.9.3; use strings that identify an enum member unambiguously.\n",
      "  indegree_centrality = np.array(g.degree(g.vs, mode=\"in-degree\"))\n"
     ]
    }
   ],
   "source": [
    "indegree_centrality = np.array(g.degree(g.vs, mode=\"in-degree\"))\n",
    "\n",
    "vs = {\n",
    "    **VISUAL_STYLE,\n",
    "    'vertex_size': 3*np.array(indegree_centrality)+1,\n",
    "    'vertex_label': ' '\n",
    "}\n",
    "\n",
    "print(f'Top 10 vertex by indegree_centrality:')\n",
    "for i in utils.top_n_indices(indegree_centrality, 10):\n",
    "    print(f\"label: {g.vs[i]['label']}, indegree_centrality: {indegree_centrality[i]}\")\n",
    "\n",
    "# ig.plot(g, vertex_color = 'yellow', **vs)"
   ]
  },
  {
   "cell_type": "code",
   "execution_count": 72,
   "metadata": {},
   "outputs": [
    {
     "name": "stdout",
     "output_type": "stream",
     "text": [
      "Top 10 vertex by outdegree_centrality:\n",
      "label: MONZA, outdegree_centrality: 10\n",
      "label: SARONNO, outdegree_centrality: 10\n",
      "label: BRESCIA, outdegree_centrality: 10\n",
      "label: GALLARATE, outdegree_centrality: 9\n",
      "label: MILANO LAMBRATE, outdegree_centrality: 9\n",
      "label: CODOGNO, outdegree_centrality: 8\n",
      "label: PAVIA, outdegree_centrality: 8\n",
      "label: LECCO, outdegree_centrality: 8\n",
      "label: TREVIGLIO, outdegree_centrality: 8\n",
      "label: CALOLZIOCORTE OLGINATE, outdegree_centrality: 8\n"
     ]
    },
    {
     "name": "stderr",
     "output_type": "stream",
     "text": [
      "/tmp/ipykernel_599/4019041301.py:1: DeprecationWarning: Partial string matches of enum members are deprecated since igraph 0.9.3; use strings that identify an enum member unambiguously.\n",
      "  outdegree_centrality = np.array(g.degree(g.vs, mode=\"out-degree\"))\n"
     ]
    }
   ],
   "source": [
    "outdegree_centrality = np.array(g.degree(g.vs, mode=\"out-degree\"))\n",
    "\n",
    "vs = {\n",
    "    **VISUAL_STYLE,\n",
    "    'vertex_size': 3*np.array(outdegree_centrality)+1,\n",
    "    'vertex_label': ' ',\n",
    "    'edge_label': ''\n",
    "}\n",
    "\n",
    "print(f'Top 10 vertex by outdegree_centrality:')\n",
    "for i in utils.top_n_indices(outdegree_centrality, 10):\n",
    "    print(f\"label: {g.vs[i]['label']}, outdegree_centrality: {outdegree_centrality[i]}\")\n",
    "\n",
    "# ig.plot(g, vertex_color = 'green', **vs)"
   ]
  },
  {
   "cell_type": "code",
   "execution_count": 73,
   "metadata": {},
   "outputs": [
    {
     "name": "stdout",
     "output_type": "stream",
     "text": [
      "Top 10 vertex by weighted_in_centrality:\n",
      "label: MILANO BOVISA FNM, weighted_in_centrality: 738\n",
      "label: SARONNO, weighted_in_centrality: 527\n",
      "label: MONZA, weighted_in_centrality: 352\n",
      "label: MILANO DOMODOSSOLA, weighted_in_centrality: 348\n",
      "label: MILANO PORTA VITTORIA, weighted_in_centrality: 347\n",
      "label: MILANO REPUBBLICA, weighted_in_centrality: 347\n",
      "label: MILANO PORTA VENEZIA, weighted_in_centrality: 347\n",
      "label: MILANO DATEO, weighted_in_centrality: 347\n",
      "label: MILANO PORTA GARIBALDI SOTTERRANEA, weighted_in_centrality: 347\n",
      "label: MILANO LANCETTI, weighted_in_centrality: 346\n"
     ]
    }
   ],
   "source": [
    "weighted_in_centrality = np.array(g.strength(g.vs, mode=\"in\", loops=True, weights=g.es['num_train']))\n",
    "\n",
    "print(f'Top 10 vertex by weighted_in_centrality:')\n",
    "for i in utils.top_n_indices(weighted_in_centrality, 10):\n",
    "    print(f\"label: {g.vs[i]['label']}, weighted_in_centrality: {int(weighted_in_centrality[i])}\")"
   ]
  },
  {
   "cell_type": "code",
   "execution_count": 74,
   "metadata": {},
   "outputs": [
    {
     "name": "stdout",
     "output_type": "stream",
     "text": [
      "Top 10 vertex by weighted_out_centrality:\n",
      "label: MILANO BOVISA FNM, weighted_out_centrality: 733\n",
      "label: SARONNO, weighted_out_centrality: 532\n",
      "label: MONZA, weighted_out_centrality: 352\n",
      "label: MILANO DOMODOSSOLA, weighted_out_centrality: 348\n",
      "label: MILANO DATEO, weighted_out_centrality: 348\n",
      "label: MILANO PORTA VITTORIA, weighted_out_centrality: 347\n",
      "label: MILANO REPUBBLICA, weighted_out_centrality: 347\n",
      "label: MILANO PORTA VENEZIA, weighted_out_centrality: 347\n",
      "label: MILANO PORTA GARIBALDI SOTTERRANEA, weighted_out_centrality: 347\n",
      "label: MILANO LANCETTI, weighted_out_centrality: 346\n"
     ]
    }
   ],
   "source": [
    "weighted_out_centrality = np.array(g.strength(g.vs, mode=\"out\", loops=True, weights=g.es['num_train']))\n",
    "\n",
    "print(f'Top 10 vertex by weighted_out_centrality:')\n",
    "for i in utils.top_n_indices(weighted_out_centrality, 10):\n",
    "    print(f\"label: {g.vs[i]['label']}, weighted_out_centrality: {int(weighted_out_centrality[i])}\")"
   ]
  },
  {
   "cell_type": "markdown",
   "metadata": {},
   "source": [
    "### Betweenness centrality"
   ]
  },
  {
   "cell_type": "code",
   "execution_count": 75,
   "metadata": {},
   "outputs": [
    {
     "name": "stdout",
     "output_type": "stream",
     "text": [
      "Top 10 vertex by betweenness (normalized):\n",
      "label: MILANO LAMBRATE, betweeness: 1.0\n",
      "label: MILANO ROGOREDO, betweeness: 0.7863961292274942\n",
      "label: MONZA, betweeness: 0.77003784379373\n",
      "label: MILANO CENTRALE, betweeness: 0.6256446891017553\n",
      "label: TREVIGLIO, betweeness: 0.5527981125491678\n",
      "label: LECCO, betweeness: 0.5071597956744601\n",
      "label: MILANO PORTA GARIBALDI, betweeness: 0.475885434347367\n",
      "label: RHO FIERA, betweeness: 0.4434781021500448\n",
      "label: MILANO BOVISA FNM, betweeness: 0.44309634516137064\n",
      "label: BRESCIA, betweeness: 0.426197251601166\n"
     ]
    }
   ],
   "source": [
    "betweeness = np.array(g.betweenness(directed=True))\n",
    "norm_btwness = (betweeness - betweeness.min()) / (betweeness.max() - betweeness.min()) \n",
    "\n",
    "vs = {\n",
    "    **VISUAL_STYLE,\n",
    "    'vertex_size': 50*norm_btwness\n",
    "}\n",
    "\n",
    "print(f'Top 10 vertex by betweenness (normalized):')\n",
    "for i in utils.top_n_indices(norm_btwness, 10):\n",
    "    print(f\"label: {g.vs[i]['label']}, betweeness: {norm_btwness[i]}\")\n",
    "\n",
    "# ig.plot(g, **vs)"
   ]
  },
  {
   "cell_type": "code",
   "execution_count": 76,
   "metadata": {},
   "outputs": [
    {
     "name": "stdout",
     "output_type": "stream",
     "text": [
      "Top 10 vertex by 'num_train' weighted betweenness (normalized):\n",
      "label: MILANO LAMBRATE, betweeness: 1.0\n",
      "label: MILANO CENTRALE, betweeness: 0.7820126606307207\n",
      "label: MILANO VILLAPIZZONE, betweeness: 0.73347061396631\n",
      "label: RHO FIERA, betweeness: 0.685394881275637\n",
      "label: TREVIGLIO, betweeness: 0.6815983427283907\n",
      "label: MILANO GRECO PIRELLI, betweeness: 0.6635854179906407\n",
      "label: BRESCIA, betweeness: 0.592307470102259\n",
      "label: MILANO ROGOREDO, betweeness: 0.5905185576454859\n",
      "label: MONZA, betweeness: 0.5485956934047523\n",
      "label: LECCO, betweeness: 0.5082120779445871\n"
     ]
    }
   ],
   "source": [
    "w_betweeness = np.array(g.betweenness(directed=True, weights=g.es['num_train']))\n",
    "norm_w_btwness = (w_betweeness - w_betweeness.min()) / (w_betweeness.max() - w_betweeness.min())\n",
    "\n",
    "vs = {\n",
    "    **VISUAL_STYLE,\n",
    "    'vertex_size': 5*w_betweeness\n",
    "}\n",
    "\n",
    "print(f\"Top 10 vertex by 'num_train' weighted betweenness (normalized):\")\n",
    "for i in utils.top_n_indices(norm_w_btwness, 10):\n",
    "    print(f\"label: {g.vs[i]['label']}, betweeness: {norm_w_btwness[i]}\")\n",
    "\n",
    "#ig.plot(g, **vs)"
   ]
  },
  {
   "cell_type": "markdown",
   "metadata": {},
   "source": [
    "### Closeness"
   ]
  },
  {
   "cell_type": "code",
   "execution_count": 77,
   "metadata": {},
   "outputs": [
    {
     "name": "stdout",
     "output_type": "stream",
     "text": [
      "label 352: MILANO CENTRALE, closeness: 0.1960514233241506\n",
      "label 189: MILANO LAMBRATE, closeness: 0.19191011235955055\n",
      "label 131: MILANO ROGOREDO, closeness: 0.18736287845546293\n",
      "label 105: MILANO PORTA GARIBALDI, closeness: 0.18500866551126516\n",
      "label 21: MILANO GRECO PIRELLI, closeness: 0.1829477292202228\n",
      "label 299: RHO FIERA, closeness: 0.18177948063005533\n",
      "label 214: MILANO VILLAPIZZONE, closeness: 0.1800927878532265\n",
      "label 98: MONZA, closeness: 0.17911073825503357\n",
      "label 373: SESTO S.GIOVANNI, closeness: 0.17888563049853373\n",
      "label 111: TREVIGLIO, closeness: 0.17644628099173554\n"
     ]
    }
   ],
   "source": [
    "closeness = np.array(g.closeness())\n",
    "\n",
    "for i in utils.top_n_indices(closeness, 10):\n",
    "    print(f\"label {i}: {g.vs[i]['label']}, closeness: {closeness[i]}\")\n",
    "\n",
    "\n",
    "#VISUAL_STYLE[\"edge_arrow_size\"] = 0.1\n",
    "#VISUAL_STYLE[\"vertex_size\"] = 1000*closeness + 1\n",
    "#ig.plot(g, main=\"Closeness in G\", vertex_label = ' ',edge_label = ' ', **VISUAL_STYLE)"
   ]
  },
  {
   "cell_type": "code",
   "execution_count": 78,
   "metadata": {},
   "outputs": [
    {
     "name": "stdout",
     "output_type": "stream",
     "text": [
      "label 352: MILANO CENTRALE, closeness: 0.016428312319310547\n",
      "label 373: SESTO S.GIOVANNI, closeness: 0.016414328627050428\n",
      "label 21: MILANO GRECO PIRELLI, closeness: 0.01640054869684499\n",
      "label 131: MILANO ROGOREDO, closeness: 0.016292912664755195\n",
      "label 189: MILANO LAMBRATE, closeness: 0.01628980483843719\n",
      "label 214: MILANO VILLAPIZZONE, closeness: 0.01627428347417022\n",
      "label 290: MILANO CERTOSA, closeness: 0.016239269803325\n",
      "label 98: MONZA, closeness: 0.01623635879691243\n",
      "label 356: CARNATE USMATE, closeness: 0.016210558285336202\n",
      "label 59: LISSONE-MUGGIO', closeness: 0.016179758250918882\n"
     ]
    }
   ],
   "source": [
    "weighted_closeness = np.array(g.closeness(weights=g.es['num_train']))\n",
    "for i in utils.top_n_indices(weighted_closeness, 10):\n",
    "    print(f\"label {i}: {g.vs[i]['label']}, closeness: {weighted_closeness[i]}\")\n",
    "\n",
    "\n",
    "#VISUAL_STYLE[\"edge_arrow_size\"] = 0.1\n",
    "#VISUAL_STYLE[\"vertex_size\"] = 1000*closeness_nodes\n",
    "# ig.plot(g, main=\"Closeness in G\", vertex_label = ' ',edge_label = ' ', **VISUAL_STYLE)"
   ]
  },
  {
   "cell_type": "markdown",
   "metadata": {},
   "source": [
    "### Pagerank"
   ]
  },
  {
   "cell_type": "code",
   "execution_count": 79,
   "metadata": {},
   "outputs": [
    {
     "name": "stdout",
     "output_type": "stream",
     "text": [
      "Top 10 vertex by pagerank:\n",
      "label: TREVIGLIO, pagerank: 0.007551068378624917\n",
      "label: SARONNO, pagerank: 0.0074271227478676215\n",
      "label: MILANO LAMBRATE, pagerank: 0.007272373359052889\n",
      "label: PAVIA, pagerank: 0.006805288268587343\n",
      "label: BRESCIA, pagerank: 0.006264685785181577\n",
      "label: MILANO ROGOREDO, pagerank: 0.006191291543844073\n",
      "label: MORTARA, pagerank: 0.0061755935354859525\n",
      "label: COLICO, pagerank: 0.005628785571451949\n",
      "label: MONZA, pagerank: 0.005522750940087795\n",
      "label: VERBANIA-PALLANZA, pagerank: 0.005448886269366474\n"
     ]
    }
   ],
   "source": [
    "pr = np.array(g.pagerank(directed=True))\n",
    "\n",
    "print(f\"Top 10 vertex by pagerank:\")\n",
    "for i in utils.top_n_indices(pr, 10):\n",
    "    print(f\"label: {g.vs[i]['label']}, pagerank: {pr[i]}\")\n",
    "\n",
    "vs = {\n",
    "    **VISUAL_STYLE,\n",
    "    'vertex_size': 5000*pr,\n",
    "    'vertex_label': ' '\n",
    "}\n",
    "\n",
    "# ig.plot(g, **vs)"
   ]
  },
  {
   "cell_type": "code",
   "execution_count": 80,
   "metadata": {},
   "outputs": [
    {
     "name": "stdout",
     "output_type": "stream",
     "text": [
      "Top 10 vertex by pagerank:\n",
      "label: MILANO BOVISA FNM, weighted_pagerank: 0.007086159132347378\n",
      "label: SARONNO, weighted_pagerank: 0.006600921252442274\n",
      "label: VERBANIA-PALLANZA, weighted_pagerank: 0.0061947699473571816\n",
      "label: PAVIA, weighted_pagerank: 0.006161238374375925\n",
      "label: GALLARATE, weighted_pagerank: 0.0060570648126080885\n",
      "label: MONZA, weighted_pagerank: 0.005903788553459938\n",
      "label: MILANO ROGOREDO, weighted_pagerank: 0.005880737974968031\n",
      "label: BRESCIA, weighted_pagerank: 0.005429114106146652\n",
      "label: CESANO MADERNO, weighted_pagerank: 0.005128811776865061\n",
      "label: MILANO LAMBRATE, weighted_pagerank: 0.004891648763915736\n"
     ]
    }
   ],
   "source": [
    "weighted_pr = np.array(g.pagerank(directed=True, weights=g.es['num_train']))\n",
    "\n",
    "print(f\"Top 10 vertex by pagerank:\")\n",
    "for i in utils.top_n_indices(weighted_pr, 10):\n",
    "    print(f\"label: {g.vs[i]['label']}, weighted_pagerank: {weighted_pr[i]}\")\n",
    "\n",
    "vs = {\n",
    "    **VISUAL_STYLE,\n",
    "    'vertex_size': 5000*pr,\n",
    "    'vertex_label': ' '\n",
    "}\n",
    "\n",
    "# ig.plot(g, **vs)"
   ]
  },
  {
   "cell_type": "markdown",
   "metadata": {},
   "source": [
    "### Test"
   ]
  },
  {
   "cell_type": "code",
   "execution_count": 81,
   "metadata": {},
   "outputs": [],
   "source": [
    "def station_extraction(l):\n",
    "    stations = []\n",
    "    for i in l:\n",
    "        for station in utils.top_n_indices(i, 10):\n",
    "            stations.append(g.vs[station]['label'])\n",
    "    return list(set(stations))  "
   ]
  },
  {
   "cell_type": "code",
   "execution_count": 82,
   "metadata": {},
   "outputs": [],
   "source": [
    "def populate_df(station, column, df, l):\n",
    "    index_name=0\n",
    "    for val in l:\n",
    "        list_to_append = []\n",
    "        for name in station:\n",
    "            for i in utils.top_n_indices(val, len(val)):\n",
    "                if i == g.vs.find(label = name).index:\n",
    "                    if type(val[i]) == int:\n",
    "                        list_to_append.append(val[i])\n",
    "                    else:\n",
    "                        list_to_append.append(round(val[i],4))\n",
    "        df[column[index_name]] = list_to_append\n",
    "        index_name = index_name + 1\n",
    "    return df"
   ]
  },
  {
   "cell_type": "code",
   "execution_count": 83,
   "metadata": {},
   "outputs": [],
   "source": [
    "def table_write(table, weighted):\n",
    "    if weighted == True:\n",
    "        full_table_path = f'../../data/tables/{period}_weighted_centrality_table.xls'\n",
    "        with pd.ExcelWriter(full_table_path) as writer:\n",
    "            table.to_excel(writer, sheet_name='new_sheet1')\n",
    "    else:\n",
    "        full_table_path = f'../../data/tables/{period}_centrality_table.xls'\n",
    "        with pd.ExcelWriter(full_table_path) as writer:\n",
    "            table.to_excel(writer, sheet_name='new_sheet1')"
   ]
  },
  {
   "cell_type": "code",
   "execution_count": 84,
   "metadata": {},
   "outputs": [],
   "source": [
    "column_names = ['Indegree centrality', 'Outdegree centrality', 'Betweeness', 'Closeness', 'Pagerank']\n"
   ]
  },
  {
   "cell_type": "code",
   "execution_count": 85,
   "metadata": {},
   "outputs": [
    {
     "name": "stderr",
     "output_type": "stream",
     "text": [
      "/tmp/ipykernel_599/2831359715.py:8: FutureWarning: As the xlwt package is no longer maintained, the xlwt engine will be removed in a future version of pandas. This is the only engine in pandas that supports writing in the xls format. Install openpyxl and write to an xlsx file instead. You can set the option io.excel.xls.writer to 'xlwt' to silence this warning. While this option is deprecated and will also raise a warning, it can be globally set and the warning suppressed.\n",
      "  with pd.ExcelWriter(full_table_path) as writer:\n"
     ]
    }
   ],
   "source": [
    "stations = [] \n",
    "values = [indegree_centrality, outdegree_centrality, norm_btwness, closeness, pr]\n",
    "stations = station_extraction(values)\n",
    "stations.sort()\n",
    "table = pd.DataFrame({'Names' : stations})\n",
    "table = populate_df(stations, column_names, table, values)\n",
    "table_write(table, False)"
   ]
  },
  {
   "cell_type": "code",
   "execution_count": 86,
   "metadata": {},
   "outputs": [
    {
     "name": "stderr",
     "output_type": "stream",
     "text": [
      "/tmp/ipykernel_599/2831359715.py:4: FutureWarning: As the xlwt package is no longer maintained, the xlwt engine will be removed in a future version of pandas. This is the only engine in pandas that supports writing in the xls format. Install openpyxl and write to an xlsx file instead. You can set the option io.excel.xls.writer to 'xlwt' to silence this warning. While this option is deprecated and will also raise a warning, it can be globally set and the warning suppressed.\n",
      "  with pd.ExcelWriter(full_table_path) as writer:\n"
     ]
    }
   ],
   "source": [
    "w_stations = []\n",
    "w_values = [weighted_in_centrality, weighted_out_centrality, w_betweeness, weighted_closeness, weighted_pr]\n",
    "w_stations = station_extraction(w_values)\n",
    "w_stations.sort()\n",
    "w_table = pd.DataFrame({'Names' : w_stations})\n",
    "w_table = populate_df(w_stations, column_names, w_table, w_values)\n",
    "table_write(w_table, True)"
   ]
  }
 ],
 "metadata": {
  "kernelspec": {
   "display_name": "Python 3.10.4 ('base')",
   "language": "python",
   "name": "python3"
  },
  "language_info": {
   "codemirror_mode": {
    "name": "ipython",
    "version": 3
   },
   "file_extension": ".py",
   "mimetype": "text/x-python",
   "name": "python",
   "nbconvert_exporter": "python",
   "pygments_lexer": "ipython3",
   "version": "3.10.4"
  },
  "orig_nbformat": 4,
  "vscode": {
   "interpreter": {
    "hash": "d4d1e4263499bec80672ea0156c357c1ee493ec2b1c70f0acce89fc37c4a6abe"
   }
  }
 },
 "nbformat": 4,
 "nbformat_minor": 2
}
