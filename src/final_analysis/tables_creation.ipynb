{
 "cells": [
  {
   "cell_type": "code",
   "execution_count": 38,
   "metadata": {},
   "outputs": [],
   "source": [
    "import igraph as ig\n",
    "import utils\n",
    "import numpy as np\n",
    "import matplotlib.pyplot as plt\n",
    "import pandas as pd"
   ]
  },
  {
   "cell_type": "code",
   "execution_count": 39,
   "metadata": {},
   "outputs": [],
   "source": [
    "g22 = ig.Graph.Read('../../data/graphs/april2022_Lspace.graphml')\n",
    "g21 = ig.Graph.Read('../../data/graphs/gen2021_Lspace.graphml')\n",
    "g19 = ig.Graph.Read('../../data/graphs/december2019_Lspace.graphml')"
   ]
  },
  {
   "cell_type": "markdown",
   "metadata": {},
   "source": [
    "### Indegree Centrality"
   ]
  },
  {
   "cell_type": "code",
   "execution_count": 40,
   "metadata": {},
   "outputs": [],
   "source": [
    "in22 = np.array(g22.degree(g22.vs, mode=\"in\")).astype(int)\n",
    "in21 = np.array(g21.degree(g21.vs, mode=\"in\")).astype(int)\n",
    "in19 = np.array(g19.degree(g19.vs, mode=\"in\")).astype(int)"
   ]
  },
  {
   "cell_type": "code",
   "execution_count": 41,
   "metadata": {},
   "outputs": [],
   "source": [
    "w_in22 = np.array(g22.strength(g22.vs, mode=\"in\", loops=True, weights=g22.es['num_train'])).astype(int)\n",
    "w_in21 = np.array(g21.strength(g21.vs, mode=\"in\", loops=True, weights=g21.es['num_train'])).astype(int)\n",
    "w_in19 = np.array(g19.strength(g19.vs, mode=\"in\", loops=True, weights=g19.es['num_train'])).astype(int)"
   ]
  },
  {
   "cell_type": "markdown",
   "metadata": {},
   "source": [
    "### Outdegree Centrality"
   ]
  },
  {
   "cell_type": "code",
   "execution_count": 5,
   "metadata": {},
   "outputs": [],
   "source": [
    "out22 = np.array(g22.degree(g22.vs, mode=\"out\")).astype(int)\n",
    "out21 = np.array(g21.degree(g21.vs, mode=\"out\")).astype(int)\n",
    "out19 = np.array(g19.degree(g19.vs, mode=\"out\")).astype(int)"
   ]
  },
  {
   "cell_type": "code",
   "execution_count": 6,
   "metadata": {},
   "outputs": [],
   "source": [
    "w_out22 = np.array(g22.strength(g22.vs, mode=\"out\", loops=True, weights=g22.es['num_train'])).astype(int)\n",
    "w_out21 = np.array(g21.strength(g21.vs, mode=\"out\", loops=True, weights=g21.es['num_train'])).astype(int)\n",
    "w_out19 = np.array(g19.strength(g19.vs, mode=\"out\", loops=True, weights=g19.es['num_train'])).astype(int)"
   ]
  },
  {
   "cell_type": "markdown",
   "metadata": {},
   "source": [
    "### Betweeness"
   ]
  },
  {
   "cell_type": "code",
   "execution_count": 7,
   "metadata": {},
   "outputs": [],
   "source": [
    "bw22 = np.array(g22.betweenness(directed=True)).astype(int)\n",
    "bw21 = np.array(g21.betweenness(directed=True)).astype(int)\n",
    "bw19 = np.array(g19.betweenness(directed=True)).astype(int)"
   ]
  },
  {
   "cell_type": "code",
   "execution_count": 8,
   "metadata": {},
   "outputs": [],
   "source": [
    "w_bw22 = np.array(g22.betweenness(directed=True, weights=g22.es['num_train'])).astype(int)\n",
    "w_bw21 = np.array(g21.betweenness(directed=True, weights=g21.es['num_train'])).astype(int)\n",
    "w_bw19 = np.array(g19.betweenness(directed=True, weights=g19.es['num_train'])).astype(int)"
   ]
  },
  {
   "cell_type": "markdown",
   "metadata": {},
   "source": [
    "### Closeness"
   ]
  },
  {
   "cell_type": "code",
   "execution_count": 9,
   "metadata": {},
   "outputs": [],
   "source": [
    "cl22 = np.array(g22.closeness())\n",
    "cl21 = np.array(g21.closeness())\n",
    "cl19 = np.array(g19.closeness())"
   ]
  },
  {
   "cell_type": "code",
   "execution_count": 10,
   "metadata": {},
   "outputs": [],
   "source": [
    "w_cl22 = np.array(g22.closeness(weights=g22.es['num_train']))\n",
    "w_cl21 = np.array(g21.closeness(weights=g21.es['num_train']))\n",
    "w_cl19 = np.array(g19.closeness(weights=g19.es['num_train']))"
   ]
  },
  {
   "cell_type": "markdown",
   "metadata": {},
   "source": [
    "### Pagerank"
   ]
  },
  {
   "cell_type": "code",
   "execution_count": 11,
   "metadata": {},
   "outputs": [],
   "source": [
    "pr22 = np.array(g22.pagerank(directed=True))\n",
    "pr21 = np.array(g21.pagerank(directed=True))\n",
    "pr19 = np.array(g19.pagerank(directed=True))"
   ]
  },
  {
   "cell_type": "code",
   "execution_count": 12,
   "metadata": {},
   "outputs": [],
   "source": [
    "w_pr22 = np.array(g22.pagerank(directed=True, weights=g22.es[\"num_train\"]))\n",
    "w_pr21 = np.array(g21.pagerank(directed=True, weights=g21.es[\"num_train\"]))\n",
    "w_pr19 = np.array(g19.pagerank(directed=True, weights=g19.es[\"num_train\"]))"
   ]
  },
  {
   "cell_type": "markdown",
   "metadata": {},
   "source": [
    "# Merge analysis"
   ]
  },
  {
   "cell_type": "code",
   "execution_count": 46,
   "metadata": {},
   "outputs": [],
   "source": [
    "def populate_rank(g, rank: dict, m_values):\n",
    "    for val in m_values:\n",
    "        position = 1\n",
    "        for station in utils.top_n_indices(val, len(val)):\n",
    "            position_value = 1/position\n",
    "            key = g.vs[station]['label']\n",
    "            rank[key] = rank[key] + position_value\n",
    "            position += 1\n",
    "    return rank    "
   ]
  },
  {
   "cell_type": "code",
   "execution_count": 47,
   "metadata": {},
   "outputs": [],
   "source": [
    "#normal\n",
    "rank22 = dict()\n",
    "rank21 = dict()\n",
    "rank19 = dict()\n",
    "#weighted\n",
    "w_rank22 = dict()\n",
    "w_rank21 = dict()\n",
    "w_rank19 = dict()"
   ]
  },
  {
   "cell_type": "code",
   "execution_count": 48,
   "metadata": {},
   "outputs": [],
   "source": [
    "for i in g22.vs:\n",
    "    rank22[i[\"label\"]] = 0\n",
    "    w_rank22[i[\"label\"]] = 0\n",
    "for i in g21.vs:\n",
    "    rank21[i[\"label\"]] = 0\n",
    "    w_rank21[i[\"label\"]] = 0\n",
    "for i in g19.vs:\n",
    "    rank19[i[\"label\"]] = 0\n",
    "    w_rank19[i[\"label\"]] = 0 \n"
   ]
  },
  {
   "cell_type": "code",
   "execution_count": 49,
   "metadata": {},
   "outputs": [],
   "source": [
    "#normal\n",
    "rank22 = populate_rank(g22, rank22, [in22, out22, bw22, cl22, pr22])\n",
    "rank21 = populate_rank(g21, rank21, [in21, out21, bw21, cl21, pr21])\n",
    "rank19 = populate_rank(g19, rank19, [in19, out19, bw19, cl19, pr19])\n",
    "#weighted\n",
    "w_rank22 = populate_rank(g22, w_rank22, [w_in22, w_out22, w_bw22, w_cl22, w_pr22])\n",
    "w_rank21 = populate_rank(g21, w_rank21, [w_in21, w_out21, w_bw21, w_cl21, w_pr21])\n",
    "w_rank19 = populate_rank(g19, w_rank19, [w_in19, w_out19, w_bw19, w_cl19, w_pr19])"
   ]
  },
  {
   "cell_type": "code",
   "execution_count": 50,
   "metadata": {},
   "outputs": [],
   "source": [
    "#normal\n",
    "key_sorted22 = sorted(rank22, key=rank22.get, reverse=True)\n",
    "key_sorted21 = sorted(rank21, key=rank21.get, reverse=True)\n",
    "key_sorted19 = sorted(rank19, key=rank19.get, reverse=True)\n",
    "#weighted\n",
    "w_key_sorted22 = sorted(w_rank22, key=w_rank22.get, reverse=True)\n",
    "w_key_sorted21 = sorted(w_rank21, key=w_rank21.get, reverse=True)\n",
    "w_key_sorted19 = sorted(w_rank19, key=w_rank19.get, reverse=True)"
   ]
  },
  {
   "cell_type": "code",
   "execution_count": 51,
   "metadata": {},
   "outputs": [],
   "source": [
    "column1 = [2022]\n",
    "column2 = [\"values\"]\n",
    "column3 = [2021]\n",
    "column4 = [\"val1ues\"]\n",
    "column5 = [2019]\n",
    "column6 = [\"values\"]\n",
    "for i in range(0,10):\n",
    "    column1.append(key_sorted22[i])\n",
    "    column2.append(round(rank22[key_sorted22[i]],4))\n",
    "    column3.append(key_sorted21[i])\n",
    "    column4.append(round(rank21[key_sorted21[i]],4))\n",
    "    column5.append(key_sorted19[i])\n",
    "    column6.append(round(rank19[key_sorted19[i]],4))\n",
    "\n",
    "merged_table = pd.DataFrame(zip(column1, column2, column3, column4, column5, column6))\n",
    "full_table_path = f'../../data/tables/merged_values_table.csv'\n",
    "merged_table.to_csv(full_table_path)\n"
   ]
  },
  {
   "cell_type": "code",
   "execution_count": 52,
   "metadata": {},
   "outputs": [],
   "source": [
    "w_column1 = [2022]\n",
    "w_column2 = [\"values\"]\n",
    "w_column3 = [2021]\n",
    "w_column4 = [\"val1ues\"]\n",
    "w_column5 = [2019]\n",
    "w_column6 = [\"values\"]\n",
    "for i in range(0,10):\n",
    "    w_column1.append(w_key_sorted22[i])\n",
    "    w_column2.append(round(w_rank22[w_key_sorted22[i]],4))\n",
    "    w_column3.append(w_key_sorted21[i])\n",
    "    w_column4.append(round(w_rank21[w_key_sorted21[i]],4))\n",
    "    w_column5.append(w_key_sorted19[i])\n",
    "    w_column6.append(round(w_rank19[w_key_sorted19[i]],4))\n",
    "\n",
    "w_merged_table = pd.DataFrame(zip(w_column1, w_column2, w_column3, w_column4, w_column5, w_column6))\n",
    "w_full_table_path = f'../../data/tables/merged_weighted_values_table.csv'\n",
    "w_merged_table.to_csv(w_full_table_path)\n"
   ]
  },
  {
   "cell_type": "markdown",
   "metadata": {},
   "source": [
    "## Saving Tables"
   ]
  },
  {
   "cell_type": "code",
   "execution_count": 53,
   "metadata": {},
   "outputs": [],
   "source": [
    "def station_extraction(g, val):\n",
    "    stations = []\n",
    "    for i in range(0,3):\n",
    "        for station in utils.top_n_indices(val[i], 5):\n",
    "            stations.append(g[i].vs[station]['label'])\n",
    "    return list(set(stations))  "
   ]
  },
  {
   "cell_type": "code",
   "execution_count": 55,
   "metadata": {},
   "outputs": [],
   "source": [
    "def populate_df(station, column, df, l, g):\n",
    "    index_name=0\n",
    "    for i in range(0,3):\n",
    "        list_to_append = []\n",
    "        for name in station:\n",
    "            for j in utils.top_n_indices(l[i], len(l[i])):\n",
    "                if j == g[i].vs.find(label = name).index:\n",
    "                    if type(l[i][j]) == int:\n",
    "                        list_to_append.append(l[i][j])\n",
    "                    else:\n",
    "                        list_to_append.append(round(l[i][j],4))\n",
    "        df[column[index_name]] = list_to_append\n",
    "        index_name = index_name + 1\n",
    "    return df"
   ]
  },
  {
   "cell_type": "code",
   "execution_count": 77,
   "metadata": {},
   "outputs": [],
   "source": [
    "def table_write(table, weighted, name):\n",
    "    if weighted == True:\n",
    "        full_table_path = f'../../data/tables/{name}_weighted_centrality_table.csv'\n",
    "        table.to_csv(full_table_path)\n",
    "    else:\n",
    "        full_table_path = f'../../data/tables/{name}_centrality_table.csv'\n",
    "        table.to_csv(full_table_path)"
   ]
  },
  {
   "cell_type": "code",
   "execution_count": 79,
   "metadata": {},
   "outputs": [],
   "source": [
    "column_names = ['2022', '2021', '2019']"
   ]
  },
  {
   "cell_type": "code",
   "execution_count": 78,
   "metadata": {},
   "outputs": [],
   "source": [
    "stations = [] \n",
    "graphs = [g22, g21, g19]\n",
    "values = [[in22, in21, in19], [out22, out21, out19], [bw22, bw21, bw19], [cl22, cl21, cl19], [pr22, pr21, pr19], \\\n",
    "    [w_in22, w_in21, w_in19], [w_out22, w_out21, w_out19], [w_bw22, w_bw21, w_bw19], [w_cl22, w_cl21, w_cl19], [w_pr22, w_pr21, w_pr19]]\n",
    "tables_name = [\"in\" , \"out\", \"betweeness\", \"closeness\", \"pagerank\",\\\n",
    "     \"weighted_in\", \"weighted_out\", \"weighted_betweeness\", \"weighted_closeness\", \"weighted_pagerank\"]\n",
    "for r in range(0, len(values)):\n",
    "    stations = station_extraction(graphs, values[r])\n",
    "    stations.sort()\n",
    "    table = pd.DataFrame({'Names' : stations})\n",
    "    table = populate_df(stations, column_names, table, values[r], graphs)\n",
    "    if tables_name[r].startswith(\"w\"):\n",
    "        table_write(table, True, tables_name[r])\n",
    "    else:\n",
    "        table_write(table, False, tables_name[r])"
   ]
  }
 ],
 "metadata": {
  "kernelspec": {
   "display_name": "Python 3.10.5 ('base')",
   "language": "python",
   "name": "python3"
  },
  "language_info": {
   "codemirror_mode": {
    "name": "ipython",
    "version": 3
   },
   "file_extension": ".py",
   "mimetype": "text/x-python",
   "name": "python",
   "nbconvert_exporter": "python",
   "pygments_lexer": "ipython3",
   "version": "3.10.5"
  },
  "orig_nbformat": 4,
  "vscode": {
   "interpreter": {
    "hash": "d4d1e4263499bec80672ea0156c357c1ee493ec2b1c70f0acce89fc37c4a6abe"
   }
  }
 },
 "nbformat": 4,
 "nbformat_minor": 2
}
