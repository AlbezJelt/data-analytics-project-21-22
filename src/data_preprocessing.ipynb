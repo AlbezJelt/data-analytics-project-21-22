{
 "cells": [
  {
   "cell_type": "code",
   "execution_count": 1,
   "metadata": {},
   "outputs": [],
   "source": [
    "from more_itertools import pairwise\n",
    "import itertools\n",
    "import igraph as ig\n"
   ]
  },
  {
   "cell_type": "code",
   "execution_count": 2,
   "metadata": {},
   "outputs": [],
   "source": [
    "def to_stop_tuples(data_path):\n",
    "    with open(data_path, 'rt') as f:\n",
    "        # Remove empty line and new line tokens\n",
    "        lines = filter(None, (line.rstrip() for line in f))\n",
    "        # Skip first item, than pairwise\n",
    "        for line1, line2 in pairwise(itertools.islice(lines, 1, None)):\n",
    "            route_id, _, stop_seq1, stop_id1, _ = line1.split(';')\n",
    "            route_id, _, stop_seq2, stop_id2, _ = line2.split(';')\n",
    "            if stop_seq2 > stop_seq1:\n",
    "                yield (route_id, stop_id1, stop_id2)\n"
   ]
  },
  {
   "cell_type": "code",
   "execution_count": 3,
   "metadata": {},
   "outputs": [],
   "source": [
    "def get_stops(data_path):\n",
    "    stops = dict()\n",
    "    with open(data_path, 'rt') as f:\n",
    "        # Remove empty line and new line tokens\n",
    "        lines = filter(None, (line.rstrip() for line in f))\n",
    "        for l in itertools.islice(lines, 1, None):  # Skip first item\n",
    "            stop_id, _, stop_name, _, _, _, _, _, _ = l.split(',')\n",
    "            stops[stop_id] = stop_name\n",
    "    return stops"
   ]
  },
  {
   "cell_type": "code",
   "execution_count": 4,
   "metadata": {},
   "outputs": [],
   "source": [
    "# Tratte data\n",
    "tratte_data = '../data/processed/tratte.csv'\n",
    "tratte_tuple = ( (stop_id1, stop_id2) for _, stop_id1, stop_id2 in to_stop_tuples(tratte_data))\n"
   ]
  },
  {
   "cell_type": "code",
   "execution_count": 5,
   "metadata": {},
   "outputs": [],
   "source": [
    "# Routes data\n",
    "routes = { (stop_id1, stop_id2) : route_id for route_id, stop_id1, stop_id2 in set(to_stop_tuples(tratte_data))}"
   ]
  },
  {
   "cell_type": "code",
   "execution_count": 6,
   "metadata": {},
   "outputs": [
    {
     "data": {
      "text/plain": [
       "'IGRAPH DN-- 428 1084 -- \\n+ attr: name (v)'"
      ]
     },
     "execution_count": 6,
     "metadata": {},
     "output_type": "execute_result"
    }
   ],
   "source": [
    "# Create graph\n",
    "g = ig.Graph.TupleList(set(tratte_tuple), directed=True)\n",
    "g.summary()\n"
   ]
  },
  {
   "cell_type": "code",
   "execution_count": 7,
   "metadata": {},
   "outputs": [],
   "source": [
    "# Stops data\n",
    "stops_data = '../data/original/stops.txt'\n",
    "stops = get_stops(stops_data)"
   ]
  },
  {
   "cell_type": "code",
   "execution_count": 8,
   "metadata": {},
   "outputs": [],
   "source": [
    "# Vertex label = stop name\n",
    "g.vs['label'] = [stops[stop_id] for stop_id in g.vs['name']]\n"
   ]
  },
  {
   "cell_type": "code",
   "execution_count": 9,
   "metadata": {},
   "outputs": [],
   "source": [
    "g.es['label'] = [routes[(s['name'], o['name'])] for e in g.es if (s:=e.source_vertex ,o := e.target_vertex)]"
   ]
  },
  {
   "cell_type": "code",
   "execution_count": 10,
   "metadata": {},
   "outputs": [],
   "source": [
    "# Save the graph\n",
    "g.write_graphml('../data/processed/trenord.graphml')"
   ]
  },
  {
   "cell_type": "code",
   "execution_count": 11,
   "metadata": {},
   "outputs": [
    {
     "ename": "AttributeError",
     "evalue": "'igraph.Edge' object has no attribute 'curved'",
     "output_type": "error",
     "traceback": [
      "\u001b[0;31m---------------------------------------------------------------------------\u001b[0m",
      "\u001b[0;31mAttributeError\u001b[0m                            Traceback (most recent call last)",
      "File \u001b[0;32m/opt/conda/lib/python3.9/site-packages/IPython/core/formatters.py:343\u001b[0m, in \u001b[0;36mBaseFormatter.__call__\u001b[0;34m(self, obj)\u001b[0m\n\u001b[1;32m    <a href='file:///opt/conda/lib/python3.9/site-packages/IPython/core/formatters.py?line=340'>341</a>\u001b[0m     method \u001b[39m=\u001b[39m get_real_method(obj, \u001b[39mself\u001b[39m\u001b[39m.\u001b[39mprint_method)\n\u001b[1;32m    <a href='file:///opt/conda/lib/python3.9/site-packages/IPython/core/formatters.py?line=341'>342</a>\u001b[0m     \u001b[39mif\u001b[39;00m method \u001b[39mis\u001b[39;00m \u001b[39mnot\u001b[39;00m \u001b[39mNone\u001b[39;00m:\n\u001b[0;32m--> <a href='file:///opt/conda/lib/python3.9/site-packages/IPython/core/formatters.py?line=342'>343</a>\u001b[0m         \u001b[39mreturn\u001b[39;00m method()\n\u001b[1;32m    <a href='file:///opt/conda/lib/python3.9/site-packages/IPython/core/formatters.py?line=343'>344</a>\u001b[0m     \u001b[39mreturn\u001b[39;00m \u001b[39mNone\u001b[39;00m\n\u001b[1;32m    <a href='file:///opt/conda/lib/python3.9/site-packages/IPython/core/formatters.py?line=344'>345</a>\u001b[0m \u001b[39melse\u001b[39;00m:\n",
      "File \u001b[0;32m/opt/conda/lib/python3.9/site-packages/igraph/drawing/__init__.py:367\u001b[0m, in \u001b[0;36mPlot._repr_svg_\u001b[0;34m(self)\u001b[0m\n\u001b[1;32m    <a href='file:///opt/conda/lib/python3.9/site-packages/igraph/drawing/__init__.py?line=364'>365</a>\u001b[0m context \u001b[39m=\u001b[39m cairo\u001b[39m.\u001b[39mContext(surface)\n\u001b[1;32m    <a href='file:///opt/conda/lib/python3.9/site-packages/igraph/drawing/__init__.py?line=365'>366</a>\u001b[0m \u001b[39m# Plot the graph on this context\u001b[39;00m\n\u001b[0;32m--> <a href='file:///opt/conda/lib/python3.9/site-packages/igraph/drawing/__init__.py?line=366'>367</a>\u001b[0m \u001b[39mself\u001b[39;49m\u001b[39m.\u001b[39;49mredraw(context)\n\u001b[1;32m    <a href='file:///opt/conda/lib/python3.9/site-packages/igraph/drawing/__init__.py?line=367'>368</a>\u001b[0m \u001b[39m# No idea why this is needed but python crashes without\u001b[39;00m\n\u001b[1;32m    <a href='file:///opt/conda/lib/python3.9/site-packages/igraph/drawing/__init__.py?line=368'>369</a>\u001b[0m context\u001b[39m.\u001b[39mshow_page()\n",
      "File \u001b[0;32m/opt/conda/lib/python3.9/site-packages/igraph/drawing/__init__.py:276\u001b[0m, in \u001b[0;36mPlot.redraw\u001b[0;34m(self, context)\u001b[0m\n\u001b[1;32m    <a href='file:///opt/conda/lib/python3.9/site-packages/igraph/drawing/__init__.py?line=273'>274</a>\u001b[0m \u001b[39melse\u001b[39;00m:\n\u001b[1;32m    <a href='file:///opt/conda/lib/python3.9/site-packages/igraph/drawing/__init__.py?line=274'>275</a>\u001b[0m     ctx\u001b[39m.\u001b[39msave()\n\u001b[0;32m--> <a href='file:///opt/conda/lib/python3.9/site-packages/igraph/drawing/__init__.py?line=275'>276</a>\u001b[0m plotter(ctx, bbox, palette, \u001b[39m*\u001b[39;49margs, \u001b[39m*\u001b[39;49m\u001b[39m*\u001b[39;49mkwds)\n\u001b[1;32m    <a href='file:///opt/conda/lib/python3.9/site-packages/igraph/drawing/__init__.py?line=276'>277</a>\u001b[0m \u001b[39mif\u001b[39;00m opacity \u001b[39m<\u001b[39m \u001b[39m1.0\u001b[39m:\n\u001b[1;32m    <a href='file:///opt/conda/lib/python3.9/site-packages/igraph/drawing/__init__.py?line=277'>278</a>\u001b[0m     ctx\u001b[39m.\u001b[39mpop_group_to_source()\n",
      "File \u001b[0;32m/opt/conda/lib/python3.9/site-packages/igraph/__init__.py:4166\u001b[0m, in \u001b[0;36mGraph.__plot__\u001b[0;34m(self, context, bbox, palette, *args, **kwds)\u001b[0m\n\u001b[1;32m   <a href='file:///opt/conda/lib/python3.9/site-packages/igraph/__init__.py?line=4163'>4164</a>\u001b[0m     \u001b[39mdel\u001b[39;00m kwds[\u001b[39m\"\u001b[39m\u001b[39mdrawer_factory\u001b[39m\u001b[39m\"\u001b[39m]\n\u001b[1;32m   <a href='file:///opt/conda/lib/python3.9/site-packages/igraph/__init__.py?line=4164'>4165</a>\u001b[0m drawer \u001b[39m=\u001b[39m drawer_factory(context, bbox)\n\u001b[0;32m-> <a href='file:///opt/conda/lib/python3.9/site-packages/igraph/__init__.py?line=4165'>4166</a>\u001b[0m drawer\u001b[39m.\u001b[39;49mdraw(\u001b[39mself\u001b[39;49m, palette, \u001b[39m*\u001b[39;49margs, \u001b[39m*\u001b[39;49m\u001b[39m*\u001b[39;49mkwds)\n",
      "File \u001b[0;32m/opt/conda/lib/python3.9/site-packages/igraph/drawing/graph.py:489\u001b[0m, in \u001b[0;36mDefaultGraphDrawer.draw\u001b[0;34m(self, graph, palette, *args, **kwds)\u001b[0m\n\u001b[1;32m    <a href='file:///opt/conda/lib/python3.9/site-packages/igraph/drawing/graph.py?line=486'>487</a>\u001b[0m src, dest \u001b[39m=\u001b[39m edge\u001b[39m.\u001b[39mtuple\n\u001b[1;32m    <a href='file:///opt/conda/lib/python3.9/site-packages/igraph/drawing/graph.py?line=487'>488</a>\u001b[0m src_vertex, dest_vertex \u001b[39m=\u001b[39m vertex_builder[src], vertex_builder[dest]\n\u001b[0;32m--> <a href='file:///opt/conda/lib/python3.9/site-packages/igraph/drawing/graph.py?line=488'>489</a>\u001b[0m (x, y), (halign, valign) \u001b[39m=\u001b[39m edge_drawer\u001b[39m.\u001b[39;49mget_label_position(\n\u001b[1;32m    <a href='file:///opt/conda/lib/python3.9/site-packages/igraph/drawing/graph.py?line=489'>490</a>\u001b[0m     edge, src_vertex, dest_vertex\n\u001b[1;32m    <a href='file:///opt/conda/lib/python3.9/site-packages/igraph/drawing/graph.py?line=490'>491</a>\u001b[0m )\n\u001b[1;32m    <a href='file:///opt/conda/lib/python3.9/site-packages/igraph/drawing/graph.py?line=492'>493</a>\u001b[0m \u001b[39m# Measure the text\u001b[39;00m\n\u001b[1;32m    <a href='file:///opt/conda/lib/python3.9/site-packages/igraph/drawing/graph.py?line=493'>494</a>\u001b[0m _, yb, w, h, _, _ \u001b[39m=\u001b[39m label_drawer\u001b[39m.\u001b[39mtext_extents()\n",
      "File \u001b[0;32m/opt/conda/lib/python3.9/site-packages/igraph/drawing/edge.py:159\u001b[0m, in \u001b[0;36mAbstractEdgeDrawer.get_label_position\u001b[0;34m(self, edge, src_vertex, dest_vertex)\u001b[0m\n\u001b[1;32m    <a href='file:///opt/conda/lib/python3.9/site-packages/igraph/drawing/edge.py?line=154'>155</a>\u001b[0m     angle \u001b[39m=\u001b[39m \u001b[39mNone\u001b[39;00m\n\u001b[1;32m    <a href='file:///opt/conda/lib/python3.9/site-packages/igraph/drawing/edge.py?line=157'>158</a>\u001b[0m \u001b[39m# Determine the midpoint\u001b[39;00m\n\u001b[0;32m--> <a href='file:///opt/conda/lib/python3.9/site-packages/igraph/drawing/edge.py?line=158'>159</a>\u001b[0m \u001b[39mif\u001b[39;00m edge\u001b[39m.\u001b[39;49mcurved:\n\u001b[1;32m    <a href='file:///opt/conda/lib/python3.9/site-packages/igraph/drawing/edge.py?line=159'>160</a>\u001b[0m     (x1, y1), (x2, y2) \u001b[39m=\u001b[39m src_vertex\u001b[39m.\u001b[39mposition, dest_vertex\u001b[39m.\u001b[39mposition\n\u001b[1;32m    <a href='file:///opt/conda/lib/python3.9/site-packages/igraph/drawing/edge.py?line=160'>161</a>\u001b[0m     aux1, aux2 \u001b[39m=\u001b[39m get_bezier_control_points_for_curved_edge(x1, y1, x2, y2, edge\u001b[39m.\u001b[39mcurved)\n",
      "\u001b[0;31mAttributeError\u001b[0m: 'igraph.Edge' object has no attribute 'curved'"
     ]
    },
    {
     "data": {
      "text/plain": [
       "<igraph.drawing.Plot at 0x7f8547242280>"
      ]
     },
     "execution_count": 11,
     "metadata": {},
     "output_type": "execute_result"
    }
   ],
   "source": [
    "visual_style = {} #Python dictionary \n",
    "\n",
    "visual_style[\"layout\"] = g.layout_auto()\n",
    "ig.plot(g, bbox=(0, 0, 3000, 3000), **visual_style) # Disabled"
   ]
  }
 ],
 "metadata": {
  "interpreter": {
   "hash": "d4d1e4263499bec80672ea0156c357c1ee493ec2b1c70f0acce89fc37c4a6abe"
  },
  "kernelspec": {
   "display_name": "Python 3.9.12 ('base')",
   "language": "python",
   "name": "python3"
  },
  "language_info": {
   "codemirror_mode": {
    "name": "ipython",
    "version": 3
   },
   "file_extension": ".py",
   "mimetype": "text/x-python",
   "name": "python",
   "nbconvert_exporter": "python",
   "pygments_lexer": "ipython3",
   "version": "3.9.12"
  },
  "orig_nbformat": 4
 },
 "nbformat": 4,
 "nbformat_minor": 2
}
