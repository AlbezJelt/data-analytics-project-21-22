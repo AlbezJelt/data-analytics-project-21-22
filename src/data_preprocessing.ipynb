{
 "cells": [
  {
   "cell_type": "code",
   "execution_count": 1,
   "metadata": {},
   "outputs": [],
   "source": [
    "import itertools\n",
    "import igraph as ig\n"
   ]
  },
  {
   "cell_type": "code",
   "execution_count": 2,
   "metadata": {},
   "outputs": [],
   "source": [
    "def to_stop_tuples(data_path):\n",
    "    with open(data_path, 'rt') as f:\n",
    "        # Remove empty line and new line tokens\n",
    "        lines = filter(None, (line.rstrip() for line in f))\n",
    "        # Skip first item, than pairwise\n",
    "        for line1, line2 in itertools.pairwise(itertools.islice(lines, 1, None)):\n",
    "            _, _, stop_seq1, stop_id1, _ = line1.split(';')\n",
    "            _, _, stop_seq2, stop_id2, _ = line2.split(';')\n",
    "            if stop_seq2 > stop_seq1:\n",
    "                yield (stop_id1, stop_id2)\n"
   ]
  },
  {
   "cell_type": "code",
   "execution_count": 3,
   "metadata": {},
   "outputs": [],
   "source": [
    "def get_stops(data_path):\n",
    "    stops = dict()\n",
    "    with open(data_path, 'rt') as f:\n",
    "        # Remove empty line and new line tokens\n",
    "        lines = filter(None, (line.rstrip() for line in f))\n",
    "        for l in itertools.islice(lines, 1, None):  # Skip first item\n",
    "            stop_id, _, stop_name, _, _, _, _, _, _ = l.split(',')\n",
    "            stops[stop_id] = stop_name\n",
    "    return stops"
   ]
  },
  {
   "cell_type": "code",
   "execution_count": 4,
   "metadata": {},
   "outputs": [],
   "source": [
    "# Tratte data\n",
    "tratte_data = '../data/processed/tratte.csv'\n",
    "tratte_tuple = to_stop_tuples(tratte_data)\n"
   ]
  },
  {
   "cell_type": "code",
   "execution_count": 5,
   "metadata": {},
   "outputs": [
    {
     "data": {
      "text/plain": [
       "'IGRAPH DN-- 428 1084 -- \\n+ attr: name (v)'"
      ]
     },
     "execution_count": 5,
     "metadata": {},
     "output_type": "execute_result"
    }
   ],
   "source": [
    "# Create graph\n",
    "g = ig.Graph.TupleList(set(tratte_tuple), directed=True)\n",
    "g.summary()\n"
   ]
  },
  {
   "cell_type": "code",
   "execution_count": 6,
   "metadata": {},
   "outputs": [],
   "source": [
    "# Stops data\n",
    "stops_data = '../data/original/stops.txt'\n",
    "stops = get_stops(stops_data)"
   ]
  },
  {
   "cell_type": "code",
   "execution_count": 7,
   "metadata": {},
   "outputs": [],
   "source": [
    "# Vertex label = stop name\n",
    "g.vs['label'] = [stops[stop_id] for stop_id in g.vs['name']]\n"
   ]
  },
  {
   "cell_type": "code",
   "execution_count": 11,
   "metadata": {},
   "outputs": [],
   "source": [
    "# Save the graph\n",
    "g.write_graphml('../data/processed/trenord.graphml')"
   ]
  },
  {
   "cell_type": "code",
   "execution_count": 10,
   "metadata": {},
   "outputs": [],
   "source": [
    "visual_style = {} #Python dictionary \n",
    "\n",
    "visual_style[\"vertex_label\"] = g.vs[\"label\"]\n",
    "visual_style[\"layout\"] = g.layout_kamada_kawai()\n",
    "ig.plot(g, bbox=(0, 0, 1000, 1000), **visual_style); # Disabled"
   ]
  }
 ],
 "metadata": {
  "interpreter": {
   "hash": "0a551c3a49fa889a31f5cdaca1326e106b36b7159066cd0d5794aa21754dc950"
  },
  "kernelspec": {
   "display_name": "Python 3.10.4 ('data-analytics-project-21-22-gWlD9Yke')",
   "language": "python",
   "name": "python3"
  },
  "language_info": {
   "codemirror_mode": {
    "name": "ipython",
    "version": 3
   },
   "file_extension": ".py",
   "mimetype": "text/x-python",
   "name": "python",
   "nbconvert_exporter": "python",
   "pygments_lexer": "ipython3",
   "version": "3.10.4"
  },
  "orig_nbformat": 4
 },
 "nbformat": 4,
 "nbformat_minor": 2
}
