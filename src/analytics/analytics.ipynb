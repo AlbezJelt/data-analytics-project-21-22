{
 "cells": [
  {
   "cell_type": "code",
   "execution_count": 2,
   "metadata": {},
   "outputs": [],
   "source": [
    "import igraph as ig\n",
    "import utils\n",
    "import numpy as np\n",
    "import matplotlib.pyplot as plt"
   ]
  },
  {
   "cell_type": "code",
   "execution_count": 3,
   "metadata": {},
   "outputs": [],
   "source": [
    "g = ig.Graph.Read('../../data/graphs/april2022.graphml')"
   ]
  },
  {
   "cell_type": "code",
   "execution_count": 4,
   "metadata": {},
   "outputs": [],
   "source": [
    "VISUAL_STYLE = {\n",
    "    'layout': utils.layout_geo(g),\n",
    "    'bbox': (0, 0, 1000, 1000),\n",
    "}"
   ]
  },
  {
   "cell_type": "code",
   "execution_count": 5,
   "metadata": {},
   "outputs": [],
   "source": [
    "# Plot adj matrix\n",
    "# ig.plot(ig.Graph.get_adjacency(g))"
   ]
  },
  {
   "cell_type": "markdown",
   "metadata": {},
   "source": [
    "# Basic Insights"
   ]
  },
  {
   "cell_type": "markdown",
   "metadata": {},
   "source": [
    "## Average degree"
   ]
  },
  {
   "cell_type": "code",
   "execution_count": 6,
   "metadata": {},
   "outputs": [
    {
     "data": {
      "text/plain": [
       "4.021028037383178"
      ]
     },
     "execution_count": 6,
     "metadata": {},
     "output_type": "execute_result"
    }
   ],
   "source": [
    "average_degree = g.ecount() / g.vcount()\n",
    "average_degree"
   ]
  },
  {
   "cell_type": "markdown",
   "metadata": {},
   "source": [
    "## Degree distribution"
   ]
  },
  {
   "cell_type": "code",
   "execution_count": 7,
   "metadata": {},
   "outputs": [
    {
     "data": {
      "image/png": "[encoded data removed]",
      "text/plain": [
       "<Figure size 432x288 with 1 Axes>"
      ]
     },
     "metadata": {
      "needs_background": "light"
     },
     "output_type": "display_data"
    }
   ],
   "source": [
    "#ig.plot(g.degree_distribution())\n",
    "\n",
    "bins = len([val for bin1, bin2, val in g.degree_distribution().bins()])\n",
    "plt.hist(g.degree(), bins)\n",
    "plt.show()"
   ]
  },
  {
   "cell_type": "markdown",
   "metadata": {},
   "source": [
    "## Diameter"
   ]
  },
  {
   "cell_type": "code",
   "execution_count": 8,
   "metadata": {},
   "outputs": [
    {
     "data": {
      "text/plain": [
       "26"
      ]
     },
     "execution_count": 8,
     "metadata": {},
     "output_type": "execute_result"
    }
   ],
   "source": [
    "g.diameter()"
   ]
  },
  {
   "cell_type": "markdown",
   "metadata": {},
   "source": [
    "## Average path lenght/distance"
   ]
  },
  {
   "cell_type": "code",
   "execution_count": 9,
   "metadata": {},
   "outputs": [
    {
     "data": {
      "text/plain": [
       "9.527041776129963"
      ]
     },
     "execution_count": 9,
     "metadata": {},
     "output_type": "execute_result"
    }
   ],
   "source": [
    "g.average_path_length()\n",
    "# TODO: Add graph P(d)/d\n",
    "# ..."
   ]
  },
  {
   "cell_type": "markdown",
   "metadata": {},
   "source": [
    "## Clustering coeff\n",
    "Grado in cui i vicini di un dato nodo si collegano tra loro ([0-1]):\n",
    "* 0: nessun collegamento tra i vicini\n",
    "* 1: i vicini formano un grafo completo\n",
    "\n",
    "Abbiamo molti nodi con grado basso ma coeff alto (spoke), quindi questi nodi fanno parte di una componente locale di vicinato molto densa, mentre i vicini degli hub sono molto più sparsi (parte bassa a destra)."
   ]
  },
  {
   "cell_type": "code",
   "execution_count": 10,
   "metadata": {},
   "outputs": [
    {
     "data": {
      "image/png": "[encoded data removed]",
      "text/plain": [
       "<Figure size 432x288 with 1 Axes>"
      ]
     },
     "metadata": {
      "needs_background": "light"
     },
     "output_type": "display_data"
    }
   ],
   "source": [
    "# TODO: Sarebbe più interessante al massimo verificarla per un nodo d'interesse\n",
    "#g.transitivity_avglocal_undirected()\n",
    "\n",
    "fig = plt.figure()\n",
    "ax = plt.gca()\n",
    "ax.scatter(g.degree(), g.transitivity_local_undirected())\n",
    "ax.set_xlabel(\"k\")\n",
    "ax.set_ylabel(\"C(k)\")\n",
    "ax.set_yscale('log')\n",
    "# ax.set_xscale('log')"
   ]
  },
  {
   "cell_type": "markdown",
   "metadata": {},
   "source": [
    "### Articulation points\n",
    "A vertex is an articulation point if its removal increases the number of connected components in the graph."
   ]
  },
  {
   "cell_type": "code",
   "execution_count": 11,
   "metadata": {},
   "outputs": [
    {
     "name": "stdout",
     "output_type": "stream",
     "text": [
      "[4, 6, 11, 26, 30, 33, 40, 46, 56, 64, 66, 67, 70, 73, 79, 83, 102, 120, 153, 159, 162, 181, 184, 194, 196, 198, 201, 208, 209, 211, 221, 225, 227, 240, 250, 262, 275, 280, 284, 285, 287, 294, 303, 307, 319, 321, 350, 353, 376, 386, 389, 392, 410, 411, 413, 425]\n"
     ]
    }
   ],
   "source": [
    "# Find the set of articulation points as a vertex sequence\n",
    "articulation_points = g.vs[g.articulation_points()] # Returns the list of articulation points in the graph\n",
    "print(g.articulation_points())\n",
    "g.es[\"label\"] = \"\"\n",
    "\n",
    "#ig.plot(g, vertex_size=10,\n",
    "#    vertex_color=\"lightblue\",\n",
    "##    # vertex_label=range(g.vcount()),\n",
    "#    vertex_label=' ',\n",
    "#    vertex_frame_color = [\"red\" if v in articulation_points else \"black\" for v in g.vs],\n",
    "#    vertex_frame_width = [3 if v in articulation_points else 1 for v in g.vs],\n",
    "#    edge_width=0.8,\n",
    "#    edge_color='gray', **VISUAL_STYLE)"
   ]
  },
  {
   "cell_type": "markdown",
   "metadata": {},
   "source": [
    "### Bridges\n",
    "An edge is a bridge if its removal increases the number of (weakly) connected components in the graph."
   ]
  },
  {
   "cell_type": "code",
   "execution_count": 12,
   "metadata": {},
   "outputs": [
    {
     "name": "stdout",
     "output_type": "stream",
     "text": [
      "[1643]\n"
     ]
    }
   ],
   "source": [
    "# Find and color bridges\n",
    "bridges = g.bridges()   # Returns the list of bridges in the graph\n",
    "print(bridges)\n",
    "\n",
    "g.es[\"color\"] = \"gray\"\n",
    "g.es[bridges][\"color\"] = \"red\"\n",
    "g.es[\"width\"] = 0.8\n",
    "g.es[bridges][\"width\"] = 1.2\n",
    "g.es[\"label\"] = \"\"\n",
    "g.es[bridges][\"label\"] = \"x\"\n",
    "\n",
    "#ig.plot(\n",
    "#    g,\n",
    "#    vertex_size=10,\n",
    "#    vertex_color=\"lightblue\",\n",
    "#    edge_background=\"#FFF0\",    # transparent background color\n",
    "#    edge_align_label=True,      # make sure labels are aligned with the edge\n",
    "#    edge_label=g.es[\"label\"],\n",
    "#    edge_label_color=\"red\",\n",
    "#    vertex_label=' ',\n",
    "#    **VISUAL_STYLE\n",
    "#)"
   ]
  },
  {
   "cell_type": "markdown",
   "metadata": {},
   "source": [
    "# Network centrality measures"
   ]
  },
  {
   "cell_type": "markdown",
   "metadata": {},
   "source": [
    "## Centrality"
   ]
  },
  {
   "cell_type": "code",
   "execution_count": 13,
   "metadata": {},
   "outputs": [
    {
     "name": "stdout",
     "output_type": "stream",
     "text": [
      "Top 10 vertex by indegree_centrality:\n",
      "label: MILANO BOVISA FNM, indegree_centrality: 27\n",
      "label: MILANO LAMBRATE, indegree_centrality: 27\n",
      "label: SARONNO, indegree_centrality: 21\n",
      "label: MILANO PORTA GARIBALDI, indegree_centrality: 21\n",
      "label: MILANO GRECO PIRELLI, indegree_centrality: 19\n",
      "label: MONZA, indegree_centrality: 18\n",
      "label: RHO FIERA, indegree_centrality: 18\n",
      "label: MILANO DOMODOSSOLA, indegree_centrality: 16\n",
      "label: MILANO ROGOREDO, indegree_centrality: 15\n",
      "label: TREVIGLIO, indegree_centrality: 15\n"
     ]
    },
    {
     "name": "stderr",
     "output_type": "stream",
     "text": [
      "/tmp/ipykernel_2522/4255316187.py:1: DeprecationWarning: Partial string matches of enum members are deprecated since igraph 0.9.3; use strings that identify an enum member unambiguously.\n",
      "  indegree_centrality = np.array(g.degree(g.vs, mode=\"in-degree\"))\n"
     ]
    }
   ],
   "source": [
    "indegree_centrality = np.array(g.degree(g.vs, mode=\"in-degree\"))\n",
    "\n",
    "vs = {\n",
    "    **VISUAL_STYLE,\n",
    "    'vertex_size': 3*np.array(indegree_centrality)+1,\n",
    "    'vertex_label': ' '\n",
    "}\n",
    "\n",
    "print(f'Top 10 vertex by indegree_centrality:')\n",
    "for i in utils.top_n_indices(indegree_centrality, 10):\n",
    "    print(f\"label: {g.vs[i]['label']}, indegree_centrality: {indegree_centrality[i]}\")\n",
    "\n",
    "# ig.plot(g, vertex_color = 'yellow', **vs)"
   ]
  },
  {
   "cell_type": "code",
   "execution_count": 14,
   "metadata": {},
   "outputs": [
    {
     "name": "stdout",
     "output_type": "stream",
     "text": [
      "Top 10 vertex by outdegree_centrality:\n",
      "label: MILANO LAMBRATE, outdegree_centrality: 29\n",
      "label: MILANO BOVISA FNM, outdegree_centrality: 27\n",
      "label: SARONNO, outdegree_centrality: 21\n",
      "label: MONZA, outdegree_centrality: 19\n",
      "label: MILANO PORTA GARIBALDI, outdegree_centrality: 18\n",
      "label: GALLARATE, outdegree_centrality: 17\n",
      "label: MILANO GRECO PIRELLI, outdegree_centrality: 16\n",
      "label: MILANO DOMODOSSOLA, outdegree_centrality: 16\n",
      "label: BRESCIA, outdegree_centrality: 16\n",
      "label: RHO FIERA, outdegree_centrality: 15\n"
     ]
    },
    {
     "name": "stderr",
     "output_type": "stream",
     "text": [
      "/tmp/ipykernel_2522/4019041301.py:1: DeprecationWarning: Partial string matches of enum members are deprecated since igraph 0.9.3; use strings that identify an enum member unambiguously.\n",
      "  outdegree_centrality = np.array(g.degree(g.vs, mode=\"out-degree\"))\n"
     ]
    }
   ],
   "source": [
    "outdegree_centrality = np.array(g.degree(g.vs, mode=\"out-degree\"))\n",
    "\n",
    "vs = {\n",
    "    **VISUAL_STYLE,\n",
    "    'vertex_size': 3*np.array(outdegree_centrality)+1,\n",
    "    'vertex_label': ' ',\n",
    "    'edge_label': ''\n",
    "}\n",
    "\n",
    "print(f'Top 10 vertex by outdegree_centrality:')\n",
    "for i in utils.top_n_indices(outdegree_centrality, 10):\n",
    "    print(f\"label: {g.vs[i]['label']}, outdegree_centrality: {outdegree_centrality[i]}\")\n",
    "\n",
    "# ig.plot(g, vertex_color = 'green', **vs)"
   ]
  },
  {
   "cell_type": "markdown",
   "metadata": {},
   "source": [
    "## Betweenness centrality"
   ]
  },
  {
   "cell_type": "code",
   "execution_count": 15,
   "metadata": {},
   "outputs": [
    {
     "name": "stdout",
     "output_type": "stream",
     "text": [
      "Top 10 vertex by betweenness (normalized):\n",
      "label: MILANO LAMBRATE, betweeness: 1.0\n",
      "label: MILANO ROGOREDO, betweeness: 0.7819789407295371\n",
      "label: MONZA, betweeness: 0.7360550047461994\n",
      "label: MILANO CENTRALE, betweeness: 0.6139560403100263\n",
      "label: TREVIGLIO, betweeness: 0.516493277038593\n",
      "label: MILANO PORTA GARIBALDI, betweeness: 0.4907068128585537\n",
      "label: LECCO, betweeness: 0.48808924493450684\n",
      "label: MILANO BOVISA FNM, betweeness: 0.46309277251310504\n",
      "label: RHO FIERA, betweeness: 0.4138710090015089\n",
      "label: BRESCIA, betweeness: 0.39651522137512785\n"
     ]
    }
   ],
   "source": [
    "betweeness = np.array(g.betweenness(directed=True))\n",
    "norm_btwness = (betweeness - betweeness.min()) / (betweeness.max() - betweeness.min()) \n",
    "\n",
    "vs = {\n",
    "    **VISUAL_STYLE,\n",
    "    'vertex_size': 50*norm_btwness\n",
    "}\n",
    "\n",
    "print(f'Top 10 vertex by betweenness (normalized):')\n",
    "for i in utils.top_n_indices(norm_btwness, 10):\n",
    "    print(f\"label: {g.vs[i]['label']}, betweeness: {norm_btwness[i]}\")\n",
    "\n",
    "# ig.plot(g, **vs)"
   ]
  },
  {
   "cell_type": "markdown",
   "metadata": {},
   "source": [
    "## Weighted betweenness centrality"
   ]
  },
  {
   "cell_type": "code",
   "execution_count": 16,
   "metadata": {},
   "outputs": [
    {
     "name": "stdout",
     "output_type": "stream",
     "text": [
      "Top 10 vertex by 'num_train' weighted betweenness (normalized):\n",
      "label: MILANO LAMBRATE, betweeness: 1.0\n",
      "label: MILANO PORTA GARIBALDI, betweeness: 0.6513857671829123\n",
      "label: MILANO ROGOREDO, betweeness: 0.6226129473047339\n",
      "label: TREVIGLIO, betweeness: 0.4892923954619779\n",
      "label: MILANO BOVISA FNM, betweeness: 0.3550692288268196\n",
      "label: LECCO, betweeness: 0.34868793377951934\n",
      "label: BRESCIA, betweeness: 0.34685490380871986\n",
      "label: MONZA, betweeness: 0.3338635634426668\n",
      "label: CALOLZIOCORTE OLGINATE, betweeness: 0.3046961888172561\n",
      "label: MILANO GRECO PIRELLI, betweeness: 0.2904942337739208\n"
     ]
    }
   ],
   "source": [
    "w_betweeness = np.array(g.betweenness(directed=True, weights=g.es['num_train']))\n",
    "norm_w_btwness = (w_betweeness - w_betweeness.min()) / (w_betweeness.max() - w_betweeness.min()) \n",
    "\n",
    "vs = {\n",
    "    **VISUAL_STYLE,\n",
    "    'vertex_size': 5*w_betweeness\n",
    "}\n",
    "\n",
    "print(f\"Top 10 vertex by 'num_train' weighted betweenness (normalized):\")\n",
    "for i in utils.top_n_indices(norm_w_btwness, 10):\n",
    "    print(f\"label: {g.vs[i]['label']}, betweeness: {norm_w_btwness[i]}\")\n",
    "\n",
    "#ig.plot(g, **vs)"
   ]
  },
  {
   "cell_type": "markdown",
   "metadata": {},
   "source": [
    "## Pagerank"
   ]
  },
  {
   "cell_type": "code",
   "execution_count": 17,
   "metadata": {},
   "outputs": [
    {
     "name": "stdout",
     "output_type": "stream",
     "text": [
      "Top 10 vertex by pagerank:\n",
      "label: MILANO LAMBRATE, pagerank: 0.009449865802983543\n",
      "label: SARONNO, pagerank: 0.008295043064447337\n",
      "label: MILANO BOVISA FNM, pagerank: 0.008043327807077175\n",
      "label: BRESCIA, pagerank: 0.007239557079865605\n",
      "label: PAVIA, pagerank: 0.007069148966863052\n",
      "label: TREVIGLIO, pagerank: 0.006881833413881859\n",
      "label: MILANO PORTA GARIBALDI, pagerank: 0.006516820367869956\n",
      "label: MILANO ROGOREDO, pagerank: 0.006295757472534304\n",
      "label: MONZA, pagerank: 0.0061769186928008575\n",
      "label: MILANO GRECO PIRELLI, pagerank: 0.005861274537140006\n"
     ]
    }
   ],
   "source": [
    "pr = np.array(g.pagerank(directed=True))\n",
    "\n",
    "print(f\"Top 10 vertex by pagerank:\")\n",
    "for i in utils.top_n_indices(pr, 10):\n",
    "    print(f\"label: {g.vs[i]['label']}, pagerank: {pr[i]}\")\n",
    "\n",
    "vs = {\n",
    "    **VISUAL_STYLE,\n",
    "    'vertex_size': 5000*pr,\n",
    "    'vertex_label': ' '\n",
    "}\n",
    "\n",
    "# ig.plot(g, **vs)"
   ]
  },
  {
   "cell_type": "markdown",
   "metadata": {},
   "source": [
    "## Degree"
   ]
  },
  {
   "cell_type": "code",
   "execution_count": 18,
   "metadata": {},
   "outputs": [
    {
     "name": "stdout",
     "output_type": "stream",
     "text": [
      "label 189: MILANO LAMBRATE, degree: 56\n",
      "label 73: MILANO BOVISA FNM, degree: 54\n",
      "label 303: SARONNO, degree: 42\n",
      "label 105: MILANO PORTA GARIBALDI, degree: 39\n",
      "label 98: MONZA, degree: 37\n",
      "label 21: MILANO GRECO PIRELLI, degree: 35\n",
      "label 299: RHO FIERA, degree: 33\n",
      "label 420: MILANO DOMODOSSOLA, degree: 32\n",
      "label 159: GALLARATE, degree: 32\n",
      "label 209: BRESCIA, degree: 31\n"
     ]
    }
   ],
   "source": [
    "degree_nodes = np.array(g.degree())\n",
    "\n",
    "for i in utils.top_n_indices(degree_nodes, 10):\n",
    "    print(f\"label {i}: {g.vs[i]['label']}, degree: {degree_nodes[i]}\")\n",
    "\n",
    "VISUAL_STYLE[\"edge_arrow_size\"] = 0.1\n",
    "VISUAL_STYLE[\"vertex_size\"] = 1*degree_nodes + 1\n",
    "#ig.plot(g, main=\"Degree in G\", vertex_label = ' ', **VISUAL_STYLE)\n",
    "#ig.plot(g, main=\"Degree in G\", **VISUAL_STYLE)\n"
   ]
  },
  {
   "cell_type": "markdown",
   "metadata": {},
   "source": [
    "## Closeness"
   ]
  },
  {
   "cell_type": "code",
   "execution_count": 19,
   "metadata": {},
   "outputs": [
    {
     "name": "stdout",
     "output_type": "stream",
     "text": [
      "label 189: MILANO LAMBRATE, closeness: 0.03371115998421024\n",
      "label 352: MILANO CENTRALE, closeness: 0.033540177519440745\n",
      "label 373: SESTO S.GIOVANNI, closeness: 0.033532651985146496\n",
      "label 111: TREVIGLIO, closeness: 0.03332032774092861\n",
      "label 21: MILANO GRECO PIRELLI, closeness: 0.033301023875575174\n",
      "label 105: MILANO PORTA GARIBALDI, closeness: 0.033179774657268145\n",
      "label 261: MILANO FORLANINI, closeness: 0.03311764575531279\n",
      "label 290: MILANO CERTOSA, closeness: 0.03300902253978422\n",
      "label 131: MILANO ROGOREDO, closeness: 0.03297297297297299\n",
      "label 370: PADERNO ROBBIATE, closeness: 0.03287180107556444\n"
     ]
    }
   ],
   "source": [
    "weighted = True\n",
    "closeness_nodes = np.array(g.closeness(weights=g.es['num_train'])) if weighted else np.array(g.closeness())\n",
    "\n",
    "for i in utils.top_n_indices(closeness_nodes, 10):\n",
    "    print(f\"label {i}: {g.vs[i]['label']}, closeness: {closeness_nodes[i]}\")\n",
    "\n",
    "\n",
    "VISUAL_STYLE[\"edge_arrow_size\"] = 0.1\n",
    "VISUAL_STYLE[\"vertex_size\"] = 1000*closeness_nodes + 1 if weighted else 100*closeness_nodes\n",
    "# ig.plot(g, main=\"Closeness in G\", vertex_label = ' ',edge_label = ' ', **VISUAL_STYLE)"
   ]
  },
  {
   "cell_type": "markdown",
   "metadata": {},
   "source": [
    "# Community detection"
   ]
  },
  {
   "cell_type": "markdown",
   "metadata": {},
   "source": [
    "## Clique"
   ]
  },
  {
   "cell_type": "code",
   "execution_count": 20,
   "metadata": {},
   "outputs": [
    {
     "name": "stderr",
     "output_type": "stream",
     "text": [
      "/tmp/ipykernel_2522/3118090396.py:1: RuntimeWarning: directionality of edges is ignored for directed graphs at src/cliques/cliques.c:1132\n",
      "  g.clique_number()\n"
     ]
    },
    {
     "data": {
      "text/plain": [
       "5"
      ]
     },
     "execution_count": 20,
     "metadata": {},
     "output_type": "execute_result"
    }
   ],
   "source": [
    "g.clique_number()"
   ]
  },
  {
   "cell_type": "code",
   "execution_count": 21,
   "metadata": {},
   "outputs": [
    {
     "name": "stderr",
     "output_type": "stream",
     "text": [
      "/tmp/ipykernel_2522/1333683903.py:1: RuntimeWarning: directionality of edges is ignored for directed graphs at src/cliques/cliques.c:1132\n",
      "  g.largest_cliques()\n"
     ]
    },
    {
     "data": {
      "text/plain": [
       "[(304, 12, 159, 278, 299)]"
      ]
     },
     "execution_count": 21,
     "metadata": {},
     "output_type": "execute_result"
    }
   ],
   "source": [
    "g.largest_cliques()"
   ]
  }
 ],
 "metadata": {
  "interpreter": {
   "hash": "d4d1e4263499bec80672ea0156c357c1ee493ec2b1c70f0acce89fc37c4a6abe"
  },
  "kernelspec": {
   "display_name": "Python 3.9.13 ('base')",
   "language": "python",
   "name": "python3"
  },
  "language_info": {
   "codemirror_mode": {
    "name": "ipython",
    "version": 3
   },
   "file_extension": ".py",
   "mimetype": "text/x-python",
   "name": "python",
   "nbconvert_exporter": "python",
   "pygments_lexer": "ipython3",
   "version": "3.10.4"
  },
  "orig_nbformat": 4
 },
 "nbformat": 4,
 "nbformat_minor": 2
}
