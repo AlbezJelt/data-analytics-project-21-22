{
 "cells": [
  {
   "cell_type": "code",
   "execution_count": 13,
   "metadata": {},
   "outputs": [],
   "source": [
    "import igraph as ig\n",
    "import utils\n",
    "import numpy as np\n"
   ]
  },
  {
   "cell_type": "code",
   "execution_count": 14,
   "metadata": {},
   "outputs": [],
   "source": [
    "g = ig.Graph.Read('../../data/graphs/april2022.graphml')"
   ]
  },
  {
   "cell_type": "code",
   "execution_count": 15,
   "metadata": {},
   "outputs": [],
   "source": [
    "VISUAL_STYLE = {\n",
    "    'layout': utils.layout_geo(g),\n",
    "    'bbox': (0, 0, 3000, 3000) \n",
    "}"
   ]
  },
  {
   "cell_type": "markdown",
   "metadata": {},
   "source": [
    "## Betweenness centrality"
   ]
  },
  {
   "cell_type": "code",
   "execution_count": 16,
   "metadata": {},
   "outputs": [
    {
     "name": "stdout",
     "output_type": "stream",
     "text": [
      "Top 10 vertex by betweenness (normalized):\n",
      "label: MILANO LAMBRATE, betweeness: 1.0\n",
      "label: MILANO ROGOREDO, betweeness: 0.7819789407295371\n",
      "label: MONZA, betweeness: 0.7360550047461994\n",
      "label: MILANO CENTRALE, betweeness: 0.6139560403100263\n",
      "label: TREVIGLIO, betweeness: 0.516493277038593\n",
      "label: MILANO PORTA GARIBALDI, betweeness: 0.4907068128585537\n",
      "label: LECCO, betweeness: 0.48808924493450684\n",
      "label: MILANO BOVISA FNM, betweeness: 0.46309277251310504\n",
      "label: RHO FIERA, betweeness: 0.4138710090015089\n",
      "label: BRESCIA, betweeness: 0.39651522137512785\n"
     ]
    }
   ],
   "source": [
    "betweeness = np.array(g.betweenness(directed=True))\n",
    "norm_btwness = (betweeness - betweeness.min()) / (betweeness.max() - betweeness.min()) \n",
    "\n",
    "vs = {\n",
    "    **VISUAL_STYLE,\n",
    "    'vertex_size': 50*norm_btwness\n",
    "}\n",
    "\n",
    "print(f'Top 10 vertex by betweenness (normalized):')\n",
    "for i in utils.top_n_indices(norm_btwness, 10):\n",
    "    print(f\"label: {g.vs[i]['label']}, betweeness: {norm_btwness[i]}\")\n",
    "\n",
    "# ig.plot(g, **vs)"
   ]
  },
  {
   "cell_type": "markdown",
   "metadata": {},
   "source": [
    "## Weighted betweenness centrality"
   ]
  },
  {
   "cell_type": "code",
   "execution_count": 17,
   "metadata": {},
   "outputs": [
    {
     "name": "stdout",
     "output_type": "stream",
     "text": [
      "Top 10 vertex by 'num_train' weighted betweenness (normalized):\n",
      "label: MILANO LAMBRATE, betweeness: 1.0\n",
      "label: MILANO PORTA GARIBALDI, betweeness: 0.6513857671829123\n",
      "label: MILANO ROGOREDO, betweeness: 0.6226129473047339\n",
      "label: TREVIGLIO, betweeness: 0.4892923954619779\n",
      "label: MILANO BOVISA FNM, betweeness: 0.3550692288268196\n",
      "label: LECCO, betweeness: 0.34868793377951934\n",
      "label: BRESCIA, betweeness: 0.34685490380871986\n",
      "label: MONZA, betweeness: 0.3338635634426668\n",
      "label: CALOLZIOCORTE OLGINATE, betweeness: 0.3046961888172561\n",
      "label: MILANO GRECO PIRELLI, betweeness: 0.2904942337739208\n"
     ]
    }
   ],
   "source": [
    "w_betweeness = np.array(g.betweenness(directed=True, weights=g.es['num_train']))\n",
    "norm_w_btwness = (w_betweeness - w_betweeness.min()) / (w_betweeness.max() - w_betweeness.min()) \n",
    "\n",
    "vs = {\n",
    "    **VISUAL_STYLE,\n",
    "    'vertex_size': 50*w_betweeness\n",
    "}\n",
    "\n",
    "print(f\"Top 10 vertex by 'num_train' weighted betweenness (normalized):\")\n",
    "for i in utils.top_n_indices(norm_w_btwness, 10):\n",
    "    print(f\"label: {g.vs[i]['label']}, betweeness: {norm_w_btwness[i]}\")\n",
    "\n",
    "# ig.plot(g, **vs)"
   ]
  },
  {
   "cell_type": "markdown",
   "metadata": {},
   "source": [
    "## Pagerank"
   ]
  },
  {
   "cell_type": "code",
   "execution_count": 18,
   "metadata": {},
   "outputs": [
    {
     "name": "stdout",
     "output_type": "stream",
     "text": [
      "Top 10 vertex by pagerank:\n",
      "label: MILANO LAMBRATE, pagerank: 0.009449865802983543\n",
      "label: SARONNO, pagerank: 0.008295043064447337\n",
      "label: MILANO BOVISA FNM, pagerank: 0.008043327807077175\n",
      "label: BRESCIA, pagerank: 0.007239557079865605\n",
      "label: PAVIA, pagerank: 0.007069148966863052\n",
      "label: TREVIGLIO, pagerank: 0.006881833413881859\n",
      "label: MILANO PORTA GARIBALDI, pagerank: 0.006516820367869956\n",
      "label: MILANO ROGOREDO, pagerank: 0.006295757472534304\n",
      "label: MONZA, pagerank: 0.0061769186928008575\n",
      "label: MILANO GRECO PIRELLI, pagerank: 0.005861274537140006\n"
     ]
    }
   ],
   "source": [
    "pr = np.array(g.pagerank(directed=True))\n",
    "\n",
    "print(f\"Top 10 vertex by pagerank:\")\n",
    "for i in utils.top_n_indices(pr, 10):\n",
    "    print(f\"label: {g.vs[i]['label']}, pagerank: {pr[i]}\")\n",
    "\n",
    "vs = {\n",
    "    **VISUAL_STYLE,\n",
    "    'vertex_size': 5000*pr\n",
    "}\n",
    "\n",
    "# ig.plot(g, **vs)"
   ]
  }
 ],
 "metadata": {
  "interpreter": {
   "hash": "d4d1e4263499bec80672ea0156c357c1ee493ec2b1c70f0acce89fc37c4a6abe"
  },
  "kernelspec": {
   "display_name": "Python 3.9.13 ('base')",
   "language": "python",
   "name": "python3"
  },
  "language_info": {
   "codemirror_mode": {
    "name": "ipython",
    "version": 3
   },
   "file_extension": ".py",
   "mimetype": "text/x-python",
   "name": "python",
   "nbconvert_exporter": "python",
   "pygments_lexer": "ipython3",
   "version": "3.9.13"
  },
  "orig_nbformat": 4
 },
 "nbformat": 4,
 "nbformat_minor": 2
}
