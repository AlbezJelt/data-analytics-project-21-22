{
 "cells": [
  {
   "cell_type": "code",
   "execution_count": 204,
   "metadata": {},
   "outputs": [],
   "source": [
    "import igraph as ig\n",
    "import utils\n",
    "import numpy as np\n",
    "import matplotlib.pyplot as plt"
   ]
  },
  {
   "cell_type": "code",
   "execution_count": 205,
   "metadata": {},
   "outputs": [],
   "source": [
    "def extract_analytics(graph, station_id):\n",
    "    ### BEFORE REMOVAL\n",
    "    betweeness = np.array(graph.betweenness(directed=True))\n",
    "    print(f'Top 5 vertex by betweenness:')\n",
    "    for i in utils.top_n_indices(betweeness, 6):\n",
    "        print(f\"label: {graph.vs[i]['label']}, betweeness: {betweeness[i]}\")\n",
    "    pagerank = np.array(graph.pagerank(directed=True))\n",
    "    print(f'\\nTop 5 vertex by pagerank:')\n",
    "    for i in utils.top_n_indices(pagerank, 6):\n",
    "        print(f\"label: {graph.vs[i]['label']}, pagerank: {pagerank[i]}\")\n",
    "    closeness = np.array(graph.closeness(weights=None))\n",
    "    print(f'\\nTop 5 vertex by closeness:')\n",
    "    for i in utils.top_n_indices(closeness, 6):\n",
    "        print(f\"label: {graph.vs[i]['label']}, closeness: {closeness[i]}\")\n",
    "    degree = np.array(graph.degree())\n",
    "    print(f'\\nTop 5 vertex by degree:')\n",
    "    for i in utils.top_n_indices(degree, 6):\n",
    "        print(f\"label: {graph.vs[i]['label']}, degree: {degree[i]}\")\n",
    "\n",
    "    ### AFTER REMOVAL\n",
    "    temp_graph = graph.copy()\n",
    "    temp_graph.delete_vertices(station_id)\n",
    "    after_betweeness = np.array(temp_graph.betweenness(directed=True))\n",
    "    print(f'\\nTop 5 vertex by betweenness:')\n",
    "    for i in utils.top_n_indices(after_betweeness, 5):\n",
    "        print(f\"label: {temp_graph.vs[i]['label']}, betweeness: {after_betweeness[i]}\")\n",
    "    after_pagerank = np.array(temp_graph.pagerank(directed=True))\n",
    "    print(f'\\nTop 5 vertex by pagerank:')\n",
    "    for i in utils.top_n_indices(after_pagerank, 5):\n",
    "        print(f\"label: {temp_graph.vs[i]['label']}, pagerank: {after_pagerank[i]}\")\n",
    "    after_closeness = np.array(temp_graph.closeness(weights=None))\n",
    "    print(f'\\nTop 5 vertex by closeness:')\n",
    "    for i in utils.top_n_indices(after_closeness, 5):\n",
    "        print(f\"label: {temp_graph.vs[i]['label']}, closeness: {after_closeness[i]}\")\n",
    "    after_degree = np.array(temp_graph.degree())\n",
    "    print(f'\\nTop 5 vertex by degree:')\n",
    "    for i in utils.top_n_indices(after_degree, 5):\n",
    "        print(f\"label: {temp_graph.vs[i]['label']}, degree: {after_degree[i]}\")\n",
    "\n",
    "    del temp_graph"
   ]
  },
  {
   "cell_type": "markdown",
   "metadata": {},
   "source": [
    "## Centralities after attacks on Base Graph"
   ]
  },
  {
   "cell_type": "code",
   "execution_count": 206,
   "metadata": {},
   "outputs": [],
   "source": [
    "g = ig.Graph.Read('../../data/graphs/april2022.graphml')"
   ]
  },
  {
   "cell_type": "code",
   "execution_count": 207,
   "metadata": {},
   "outputs": [],
   "source": [
    "VISUAL_STYLE = {\n",
    "    'layout': utils.layout_geo(g),\n",
    "    'bbox': (0, 0, 1000, 1000),\n",
    "    'vertex_label': ' '\n",
    "}"
   ]
  },
  {
   "cell_type": "markdown",
   "metadata": {},
   "source": [
    "### Stations by max measures"
   ]
  },
  {
   "cell_type": "code",
   "execution_count": 208,
   "metadata": {},
   "outputs": [],
   "source": [
    "betweeness_station = np.array(g.betweenness(directed=True))\n",
    "pagerank_station = np.array(g.pagerank(directed=True))\n",
    "closeness_station = np.array(g.closeness(weights=None))\n",
    "degree_station = np.array(g.degree())"
   ]
  },
  {
   "cell_type": "code",
   "execution_count": 209,
   "metadata": {},
   "outputs": [
    {
     "name": "stdout",
     "output_type": "stream",
     "text": [
      "label 189: MILANO LAMBRATE, max_betweeness: 83362.42833370912\n",
      "label 189: MILANO LAMBRATE, max_pagerank: 0.009449865802983543\n",
      "label 352: MILANO CENTRALE, max_closeness: 0.1960514233241506\n",
      "label 189: MILANO LAMBRATE, max_degree: 56\n"
     ]
    }
   ],
   "source": [
    "max_betweeness_station = ()\n",
    "for i in utils.top_n_indices(betweeness_station, 1):\n",
    "    max_betweeness_station =(i, g.vs[i]['label'])\n",
    "    print(f\"label {i}: {g.vs[i]['label']}, max_betweeness: {betweeness_station[i]}\")\n",
    "\n",
    "max_pagerank_station = ()\n",
    "for i in utils.top_n_indices(pagerank_station, 1):\n",
    "    max_pagerank_station = (i, g.vs[i]['label'])\n",
    "    print(f\"label {i}: {g.vs[i]['label']}, max_pagerank: {pagerank_station[i]}\")\n",
    "\n",
    "max_closeness_station = ()\n",
    "for i in utils.top_n_indices(closeness_station, 1):\n",
    "    max_closeness_station = (i, g.vs[i]['label'])\n",
    "    print(f\"label {i}: {g.vs[i]['label']}, max_closeness: {closeness_station[i]}\")\n",
    "\n",
    "max_degree_station = ()\n",
    "for i in utils.top_n_indices(degree_station, 1):\n",
    "    max_degree_station = (i, g.vs[i]['label'])\n",
    "    print(f\"label {i}: {g.vs[i]['label']}, max_degree: {degree_station[i]}\")"
   ]
  },
  {
   "cell_type": "markdown",
   "metadata": {},
   "source": [
    "### !!! After removing node and vertex ids are renamed"
   ]
  },
  {
   "cell_type": "code",
   "execution_count": 210,
   "metadata": {},
   "outputs": [
    {
     "name": "stdout",
     "output_type": "stream",
     "text": [
      "Edge with ID 8 connects vertexes 369 and 119\n",
      "Edge with ID 8 connects vertexes 368 and 119\n",
      "[1, 426]\n"
     ]
    }
   ],
   "source": [
    "\n",
    "first_vertex = g.get_edgelist()[8][0]\n",
    "second_vertex = g.get_edgelist()[8][1]\n",
    "print('Edge with ID 8 connects vertexes {0} and {1}'.format(first_vertex,second_vertex))\n",
    "# ig.plot(g, **VISUAL_STYLE)\n",
    "g.summary()\n",
    "\n",
    "deleted_g = g.copy()\n",
    "# Delete node\n",
    "# to_delete_ids = [v.index for v in g.vs if max_betweeness_station in v['label']]\n",
    "deleted_g.delete_vertices(max_betweeness_station[0])\n",
    "\n",
    "first_vertex = deleted_g.get_edgelist()[8][0]\n",
    "second_vertex = deleted_g.get_edgelist()[8][1]\n",
    "print('Edge with ID 8 connects vertexes {0} and {1}'.format(first_vertex,second_vertex))\n",
    "# ig.plot(deleted_g, **VISUAL_STYLE)\n",
    "deleted_g.summary()\n",
    "\n",
    "gc = deleted_g.components().giant().vs\n",
    "print(deleted_g.components().sizes())\n",
    "hub_subgraph = deleted_g.induced_subgraph(gc)\n",
    "#ig.plot(hub_subgraph, **VISUAL_STYLE)\n"
   ]
  },
  {
   "cell_type": "code",
   "execution_count": 211,
   "metadata": {},
   "outputs": [
    {
     "name": "stdout",
     "output_type": "stream",
     "text": [
      "Top 5 vertex by betweenness:\n",
      "label: MILANO LAMBRATE, betweeness: 83362.42833370912\n",
      "label: MILANO ROGOREDO, betweeness: 65187.663405035804\n",
      "label: MONZA, betweeness: 61359.33258282298\n",
      "label: MILANO CENTRALE, betweeness: 51180.86641039239\n",
      "label: TREVIGLIO, betweeness: 43056.13379197228\n",
      "label: MILANO PORTA GARIBALDI, betweeness: 40906.511519784\n",
      "\n",
      "Top 5 vertex by pagerank:\n",
      "label: MILANO LAMBRATE, pagerank: 0.009449865802983543\n",
      "label: SARONNO, pagerank: 0.008295043064447337\n",
      "label: MILANO BOVISA FNM, pagerank: 0.008043327807077175\n",
      "label: BRESCIA, pagerank: 0.007239557079865605\n",
      "label: PAVIA, pagerank: 0.007069148966863052\n",
      "label: TREVIGLIO, pagerank: 0.006881833413881859\n",
      "\n",
      "Top 5 vertex by closeness:\n",
      "label: MILANO CENTRALE, closeness: 0.1960514233241506\n",
      "label: MILANO LAMBRATE, closeness: 0.19191011235955055\n",
      "label: MILANO ROGOREDO, closeness: 0.18736287845546293\n",
      "label: MILANO PORTA GARIBALDI, closeness: 0.18500866551126516\n",
      "label: MILANO GRECO PIRELLI, closeness: 0.1829477292202228\n",
      "label: RHO FIERA, closeness: 0.18177948063005533\n",
      "\n",
      "Top 5 vertex by degree:\n",
      "label: MILANO LAMBRATE, degree: 56\n",
      "label: MILANO BOVISA FNM, degree: 54\n",
      "label: SARONNO, degree: 42\n",
      "label: MILANO PORTA GARIBALDI, degree: 39\n",
      "label: MONZA, degree: 37\n",
      "label: MILANO GRECO PIRELLI, degree: 35\n",
      "\n",
      "Top 5 vertex by betweenness:\n",
      "label: MILANO ROGOREDO, betweeness: 64942.21980584286\n",
      "label: MONZA, betweeness: 53221.1472518427\n",
      "label: MILANO CENTRALE, betweeness: 48104.471156897474\n",
      "label: RHO FIERA, betweeness: 45559.050944323404\n",
      "label: LECCO, betweeness: 42430.58092549549\n",
      "\n",
      "Top 5 vertex by pagerank:\n",
      "label: SARONNO, pagerank: 0.008336679171127523\n",
      "label: MILANO BOVISA FNM, pagerank: 0.00812956247520729\n",
      "label: BRESCIA, pagerank: 0.007483523471301908\n",
      "label: PAVIA, pagerank: 0.007386173005334133\n",
      "label: TREVIGLIO, pagerank: 0.0068870454713688785\n",
      "\n",
      "Top 5 vertex by closeness:\n",
      "label: MILANO CENTRALE, closeness: 0.18766519823788547\n",
      "label: RHO FIERA, closeness: 0.18104547386315342\n",
      "label: MILANO PORTA GARIBALDI, closeness: 0.17625155151013652\n",
      "label: MILANO ROGOREDO, closeness: 0.17588769611891\n",
      "label: MONZA, closeness: 0.17281947261663286\n",
      "\n",
      "Top 5 vertex by degree:\n",
      "label: MILANO BOVISA FNM, degree: 54\n",
      "label: SARONNO, degree: 42\n",
      "label: MONZA, degree: 37\n",
      "label: MILANO PORTA GARIBALDI, degree: 35\n",
      "label: RHO FIERA, degree: 33\n"
     ]
    }
   ],
   "source": [
    "extract_analytics(g, max_betweeness_station[0])"
   ]
  },
  {
   "cell_type": "code",
   "execution_count": 212,
   "metadata": {},
   "outputs": [],
   "source": [
    "# Like L-space but with no mean values computed\n",
    "# g_simplified = g.copy()\n",
    "# g_simplified.simplify()\n",
    "# ig.plot(g_simplified, **VISUAL_STYLE)"
   ]
  },
  {
   "cell_type": "code",
   "execution_count": 213,
   "metadata": {},
   "outputs": [],
   "source": [
    "import random\n",
    "import matplotlib.pyplot as plt\n",
    "from matplotlib.cm import ScalarMappable\n",
    "from matplotlib.colors import LinearSegmentedColormap, Normalize\n",
    "def plot_betweenness(gg, ax, cax1, cax2):\n",
    "    '''Plot vertex/edge betweenness, with colorbars\n",
    "\n",
    "    Args:\n",
    "        gg: the graph to plot.\n",
    "        ax: the Axes for the graph\n",
    "        cax1: the Axes for the vertex betweenness colorbar\n",
    "        cax2: the Axes for the edge betweenness colorbar\n",
    "    '''\n",
    "\n",
    "    # Calculate vertex betweenness and scale it to be between 0.0 and 1.0\n",
    "    vertex_betweenness = gg.betweenness(directed=True)\n",
    "    edge_betweenness = gg.edge_betweenness(directed=True)\n",
    "    scaled_vertex_betweenness = ig.rescale(vertex_betweenness, clamp=True)\n",
    "    scaled_edge_betweenness = ig.rescale(edge_betweenness, clamp=True)\n",
    "    print(f\"vertices: {min(vertex_betweenness)} - {max(vertex_betweenness)}\")\n",
    "    print(f\"edges: {min(edge_betweenness)} - {max(edge_betweenness)}\")\n",
    "\n",
    "    # Define mappings betweenness -> color\n",
    "    cmap1 = LinearSegmentedColormap.from_list(\"vertex_cmap\", [\"pink\", \"indigo\"])\n",
    "    cmap2 = LinearSegmentedColormap.from_list(\"edge_cmap\", [\"lightblue\", \"midnightblue\"])\n",
    "\n",
    "    # Plot graph\n",
    "    gg.vs[\"color\"] = [cmap1(betweenness) for betweenness in scaled_vertex_betweenness]\n",
    "    gg.vs[\"size\"]  = ig.rescale(vertex_betweenness, (0.1, 0.5))\n",
    "    gg.es[\"color\"] = [cmap2(betweenness) for betweenness in scaled_edge_betweenness]\n",
    "    gg.es[\"width\"] = ig.rescale(edge_betweenness, (0.5, 1.0))\n",
    "    ig.plot(\n",
    "        gg,\n",
    "        target=ax,\n",
    "        layout=\"fruchterman_reingold\",\n",
    "        vertex_size=10,\n",
    "        vertex_frame_width=1,\n",
    "    )\n",
    "\n",
    "    # Color bars\n",
    "    norm1 = ScalarMappable(norm=Normalize(0, max(vertex_betweenness)), cmap=cmap1)\n",
    "    norm2 = ScalarMappable(norm=Normalize(0, max(edge_betweenness)), cmap=cmap2)\n",
    "    plt.colorbar(norm1, cax=cax1, orientation=\"horizontal\", label='Vertex Betweenness')\n",
    "    plt.colorbar(norm2, cax=cax2, orientation=\"horizontal\", label='Edge Betweenness')"
   ]
  },
  {
   "cell_type": "code",
   "execution_count": 214,
   "metadata": {},
   "outputs": [],
   "source": [
    "#fig, (ax1, ax2, ax3) = plt.subplots(\n",
    "#    3, 1,\n",
    "#    figsize=(20, 20),\n",
    "#    gridspec_kw=dict(height_ratios=(15, 1, 1)),\n",
    "#    )\n",
    "# plot_betweenness(g, ax1, ax2, ax3)\n",
    "# Not colouring vertex..."
   ]
  }
 ],
 "metadata": {
  "interpreter": {
   "hash": "d4d1e4263499bec80672ea0156c357c1ee493ec2b1c70f0acce89fc37c4a6abe"
  },
  "kernelspec": {
   "display_name": "Python 3.10.4 ('base')",
   "language": "python",
   "name": "python3"
  },
  "language_info": {
   "codemirror_mode": {
    "name": "ipython",
    "version": 3
   },
   "file_extension": ".py",
   "mimetype": "text/x-python",
   "name": "python",
   "nbconvert_exporter": "python",
   "pygments_lexer": "ipython3",
   "version": "3.10.4"
  },
  "orig_nbformat": 4
 },
 "nbformat": 4,
 "nbformat_minor": 2
}
