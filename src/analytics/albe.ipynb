{
 "cells": [
  {
   "cell_type": "code",
   "execution_count": 1,
   "metadata": {},
   "outputs": [],
   "source": [
    "import igraph as ig\n",
    "import utils\n",
    "import numpy as np\n",
    "import itertools\n",
    "from statistics import mean\n"
   ]
  },
  {
   "cell_type": "code",
   "execution_count": 2,
   "metadata": {},
   "outputs": [],
   "source": [
    "def VISUAL_STYLE(g: ig.Graph) -> dict:\n",
    "    return {\n",
    "        'layout': utils.layout_geo(g),\n",
    "        'bbox': (0, 0, 3000, 3000)\n",
    "    }\n"
   ]
  },
  {
   "cell_type": "code",
   "execution_count": 3,
   "metadata": {},
   "outputs": [],
   "source": [
    "g = ig.Graph.Read('../../data/graphs/april2022.graphml')\n"
   ]
  },
  {
   "cell_type": "code",
   "execution_count": 4,
   "metadata": {},
   "outputs": [],
   "source": [
    "g_L_space = ig.Graph(directed=True)\n"
   ]
  },
  {
   "cell_type": "code",
   "execution_count": 5,
   "metadata": {},
   "outputs": [],
   "source": [
    "# Adding all vertex from original graph\n",
    "g_L_space.add_vertices(\n",
    "    n=g.vs['name'],\n",
    "    attributes={\n",
    "        'label': g.vs['label'],\n",
    "        'lat': g.vs['lat'],\n",
    "        'lon': g.vs['lon']\n",
    "    }\n",
    ")\n"
   ]
  },
  {
   "cell_type": "code",
   "execution_count": 6,
   "metadata": {},
   "outputs": [],
   "source": [
    "for a, b in itertools.permutations(g.vs, 2):\n",
    "    edges = g.es.select(_source=a.index, _target=b.index)\n",
    "    if len(edges) > 0:\n",
    "        g_L_space.add_edge(\n",
    "            source=a.index,\n",
    "            target=b.index,\n",
    "            time_second=mean([e['time_second'] for e in edges]),\n",
    "            num_train=mean([e['num_train'] for e in edges])\n",
    "        )\n"
   ]
  },
  {
   "cell_type": "code",
   "execution_count": 7,
   "metadata": {},
   "outputs": [
    {
     "data": {
      "text/plain": [
       "'IGRAPH DN-- 428 1173 -- \\n+ attr: label (v), lat (v), lon (v), name (v), num_train (e), time_second (e)'"
      ]
     },
     "execution_count": 7,
     "metadata": {},
     "output_type": "execute_result"
    }
   ],
   "source": [
    "g_L_space.summary()\n"
   ]
  },
  {
   "cell_type": "code",
   "execution_count": 8,
   "metadata": {},
   "outputs": [
    {
     "name": "stdout",
     "output_type": "stream",
     "text": [
      "Top 10 vertex by betweenness (normalized):\n",
      "label: MILANO LAMBRATE, betweeness: 1.0\n",
      "label: MILANO ROGOREDO, betweeness: 0.7863961292274942\n",
      "label: MONZA, betweeness: 0.77003784379373\n",
      "label: MILANO CENTRALE, betweeness: 0.6256446891017553\n",
      "label: TREVIGLIO, betweeness: 0.5527981125491678\n",
      "label: LECCO, betweeness: 0.5071597956744601\n",
      "label: MILANO PORTA GARIBALDI, betweeness: 0.475885434347367\n",
      "label: RHO FIERA, betweeness: 0.4434781021500448\n",
      "label: MILANO BOVISA FNM, betweeness: 0.44309634516137064\n",
      "label: BRESCIA, betweeness: 0.426197251601166\n"
     ]
    }
   ],
   "source": [
    "betweeness = np.array(g_L_space.betweenness(directed=True))\n",
    "norm_btwness = (betweeness - betweeness.min()) / (betweeness.max() - betweeness.min()) \n",
    "\n",
    "vs = {\n",
    "    **VISUAL_STYLE(g_L_space),\n",
    "    'vertex_size': 50*norm_btwness\n",
    "}\n",
    "\n",
    "print(f'Top 10 vertex by betweenness (normalized):')\n",
    "for i in utils.top_n_indices(norm_btwness, 10):\n",
    "    print(f\"label: {g.vs[i]['label']}, betweeness: {norm_btwness[i]}\")\n",
    "\n",
    "ig.plot(g_L_space, **vs);"
   ]
  },
  {
   "cell_type": "code",
   "execution_count": 9,
   "metadata": {},
   "outputs": [],
   "source": [
    "g_L_space.vs['total_train'] = [\n",
    "    max(\n",
    "        sum(edge['num_train'] for edge in g_L_space.es.select(_source=vertex.index)),\n",
    "        sum(edge['num_train'] for edge in g_L_space.es.select(_target=vertex.index))\n",
    "    )\n",
    "    for vertex in g_L_space.vs\n",
    "]"
   ]
  },
  {
   "cell_type": "code",
   "execution_count": 11,
   "metadata": {},
   "outputs": [
    {
     "name": "stdout",
     "output_type": "stream",
     "text": [
      "Assortativity by vertex degree: 0.5288859346490613\n",
      "L-space assortativity by vertex degree: 0.2282961704369721\n",
      "L-space assortativity by vertex total trains, directed: 0.5158865851932436\n"
     ]
    }
   ],
   "source": [
    "print('Assortativity by vertex degree:', g.assortativity_degree())\n",
    "print('L-space assortativity by vertex degree:', g_L_space.assortativity_degree())\n",
    "print('L-space assortativity by vertex total trains, directed:', g_L_space.assortativity('total_train'))"
   ]
  }
 ],
 "metadata": {
  "interpreter": {
   "hash": "d4d1e4263499bec80672ea0156c357c1ee493ec2b1c70f0acce89fc37c4a6abe"
  },
  "kernelspec": {
   "display_name": "Python 3.10.4 ('base')",
   "language": "python",
   "name": "python3"
  },
  "language_info": {
   "codemirror_mode": {
    "name": "ipython",
    "version": 3
   },
   "file_extension": ".py",
   "mimetype": "text/x-python",
   "name": "python",
   "nbconvert_exporter": "python",
   "pygments_lexer": "ipython3",
   "version": "3.10.4"
  },
  "orig_nbformat": 4
 },
 "nbformat": 4,
 "nbformat_minor": 2
}
