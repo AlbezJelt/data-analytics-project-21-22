{
 "cells": [
  {
   "cell_type": "code",
   "execution_count": 1,
   "metadata": {},
   "outputs": [],
   "source": [
    "import pandas as pd\n",
    "import pickle\n",
    "from datetime import datetime\n"
   ]
  },
  {
   "cell_type": "code",
   "execution_count": 2,
   "metadata": {},
   "outputs": [],
   "source": [
    "original_path = '../../data/april2022/original'\n",
    "processed_path = '../../data/april2022/processed'\n"
   ]
  },
  {
   "cell_type": "code",
   "execution_count": 3,
   "metadata": {},
   "outputs": [],
   "source": [
    "calendar_path = f'{original_path}/calendar.txt'\n",
    "routes_path = f'{original_path}/routes.txt'\n",
    "stop_times_path = f'{original_path}/stop_times.txt'\n",
    "stops_path = f'{original_path}/stops.txt'\n",
    "trips_path = f'{original_path}/trips.txt'\n"
   ]
  },
  {
   "cell_type": "code",
   "execution_count": 4,
   "metadata": {},
   "outputs": [],
   "source": [
    "calendar = pd.read_csv(calendar_path, delimiter=',', header=0)\n",
    "\n",
    "routes = pd.read_csv(routes_path, delimiter=',', header=0)\n",
    "\n",
    "stop_times = pd.read_csv(stop_times_path, delimiter=',', header=0)\n",
    "stop_times = stop_times.astype({'stop_id': str})\n",
    "\n",
    "stops = pd.read_csv(stops_path, delimiter=',', header=0)\n",
    "stops = stops.astype({'stop_id': str})\n",
    "\n",
    "trips = pd.read_csv(trips_path, delimiter=',', header=0)\n"
   ]
  },
  {
   "cell_type": "code",
   "execution_count": 5,
   "metadata": {},
   "outputs": [],
   "source": [
    "joined = pd.merge(routes, trips, on='route_id', how='inner')\n",
    "joined = pd.merge(joined, stop_times, on='trip_id', how='inner')\n",
    "joined = pd.merge(joined, stops, on='stop_id', how='inner')\n",
    "joined = joined.sort_values(\n",
    "    by=['route_id', 'trip_short_name', 'stop_sequence'], ascending=True)\n"
   ]
  },
  {
   "cell_type": "code",
   "execution_count": 6,
   "metadata": {},
   "outputs": [],
   "source": [
    "tratte = joined[[\n",
    "    \"route_id\",\n",
    "    \"route_long_name\",\n",
    "    \"arrival_time\",\n",
    "    \"departure_time\",\n",
    "    \"trip_short_name\",\n",
    "    \"stop_id\",\n",
    "    \"stop_sequence\",\n",
    "    \"stop_name\"\n",
    "]]\n",
    "\n",
    "\n",
    "def trycast_datetime(time_str):\n",
    "    try:\n",
    "        datetime.strptime(time_str, \"%H:%M:%S\")\n",
    "    except:\n",
    "        return False\n",
    "    return True\n",
    "\n",
    "\n",
    "arrival_time_criterion = tratte['arrival_time'].map(trycast_datetime)\n",
    "departure_time_criterion = tratte['departure_time'].map(trycast_datetime)\n",
    "\n",
    "tratte = tratte[arrival_time_criterion & departure_time_criterion]\n",
    "tratte = tratte.reset_index(drop=True)\n"
   ]
  },
  {
   "cell_type": "code",
   "execution_count": 7,
   "metadata": {},
   "outputs": [],
   "source": [
    "weeks = pd.merge(trips, stop_times, on='trip_id', how='inner')\n",
    "weeks = pd.merge(weeks, calendar, on='service_id', how='inner')\n"
   ]
  },
  {
   "cell_type": "code",
   "execution_count": 8,
   "metadata": {},
   "outputs": [],
   "source": [
    "weeks['times_in_week'] = weeks['monday'] + weeks['tuesday'] + weeks['wednesday'] + \\\n",
    "    weeks['thursday'] + weeks['friday'] + weeks['saturday'] + weeks['sunday']\n",
    "\n",
    "weeks = weeks[['route_id', 'trip_short_name',\n",
    "               'stop_id', 'stop_sequence', 'times_in_week']]\n",
    "\n",
    "weeks = weeks.sort_values(\n",
    "    by=['trip_short_name', 'stop_sequence'], ascending=True)\n",
    "weeks = weeks.drop_duplicates()\n",
    "weeks = weeks.reset_index(drop=True)\n"
   ]
  },
  {
   "cell_type": "code",
   "execution_count": 9,
   "metadata": {},
   "outputs": [],
   "source": [
    "with open(f\"{processed_path}/trenord.pickle\", 'wb') as f:\n",
    "    pickle.dump([calendar, routes, stop_times, stops, trips, tratte, weeks], f)\n"
   ]
  }
 ],
 "metadata": {
  "interpreter": {
   "hash": "d4d1e4263499bec80672ea0156c357c1ee493ec2b1c70f0acce89fc37c4a6abe"
  },
  "kernelspec": {
   "display_name": "Python 3.9.12 ('base')",
   "language": "python",
   "name": "python3"
  },
  "language_info": {
   "codemirror_mode": {
    "name": "ipython",
    "version": 3
   },
   "file_extension": ".py",
   "mimetype": "text/x-python",
   "name": "python",
   "nbconvert_exporter": "python",
   "pygments_lexer": "ipython3",
   "version": "3.10.5"
  },
  "orig_nbformat": 4
 },
 "nbformat": 4,
 "nbformat_minor": 2
}
