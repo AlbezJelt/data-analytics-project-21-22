{
 "cells": [
  {
   "cell_type": "code",
   "execution_count": 10,
   "metadata": {},
   "outputs": [],
   "source": [
    "import igraph as ig\n",
    "import itertools\n",
    "from statistics import mean\n",
    "from sklearn.preprocessing import minmax_scale\n"
   ]
  },
  {
   "cell_type": "code",
   "execution_count": 11,
   "metadata": {},
   "outputs": [],
   "source": [
    "period = 'april2022'\n",
    "full_graph_path = f'../../data/graphs/{period}.graphml'\n",
    "g = ig.Graph.Read(full_graph_path)\n"
   ]
  },
  {
   "cell_type": "code",
   "execution_count": 12,
   "metadata": {},
   "outputs": [],
   "source": [
    "g_L_space = ig.Graph(directed=True)\n"
   ]
  },
  {
   "cell_type": "code",
   "execution_count": 13,
   "metadata": {},
   "outputs": [],
   "source": [
    "# Adding all vertex from original graph\n",
    "g_L_space.add_vertices(\n",
    "    n=g.vs['name'],\n",
    "    attributes={\n",
    "        'label': g.vs['label'],\n",
    "        'lat': g.vs['lat'],\n",
    "        'lon': g.vs['lon']\n",
    "    }\n",
    ")\n"
   ]
  },
  {
   "cell_type": "code",
   "execution_count": 14,
   "metadata": {},
   "outputs": [],
   "source": [
    "for a, b in itertools.permutations(g.vs, 2):\n",
    "    edges = g.es.select(_source=a.index, _target=b.index)\n",
    "    if len(edges) > 0:\n",
    "        g_L_space.add_edge(\n",
    "            source=a.index,\n",
    "            target=b.index,\n",
    "            time_second=mean([e['time_second'] for e in edges]),\n",
    "            num_train=sum([e['num_train'] for e in edges])\n",
    "        )\n"
   ]
  },
  {
   "cell_type": "code",
   "execution_count": 15,
   "metadata": {},
   "outputs": [],
   "source": [
    "g_L_space.vs['total_train'] = [\n",
    "    max(\n",
    "        sum(edge['num_train']\n",
    "            for edge in g_L_space.es.select(_source=vertex.index)),\n",
    "        sum(edge['num_train']\n",
    "            for edge in g_L_space.es.select(_target=vertex.index))\n",
    "    )\n",
    "    for vertex in g_L_space.vs\n",
    "]\n"
   ]
  },
  {
   "cell_type": "code",
   "execution_count": 16,
   "metadata": {},
   "outputs": [
    {
     "data": {
      "text/plain": [
       "'IGRAPH DN-- 428 1173 -- \\n+ attr: label (v), lat (v), lon (v), name (v), total_train (v), num_train (e), time_second (e)'"
      ]
     },
     "execution_count": 16,
     "metadata": {},
     "output_type": "execute_result"
    }
   ],
   "source": [
    "g_L_space.summary()\n"
   ]
  },
  {
   "cell_type": "code",
   "execution_count": 17,
   "metadata": {},
   "outputs": [],
   "source": [
    "g_L_space.vs['degree'] = minmax_scale(g_L_space.degree())\n",
    "g_L_space.vs['betweennes'] = minmax_scale(g_L_space.betweenness(directed=True))\n",
    "g_L_space.vs['closeness'] = minmax_scale(g_L_space.closeness())\n",
    "g_L_space.vs['pagerank'] = minmax_scale(g_L_space.pagerank())\n",
    "g_L_space.vs['strength_num_train'] = minmax_scale(g_L_space.strength(weights='num_train'))\n",
    "g_L_space.vs['pagerank_num_train'] = minmax_scale(g_L_space.pagerank(weights='num_train'))"
   ]
  },
  {
   "cell_type": "code",
   "execution_count": 18,
   "metadata": {},
   "outputs": [],
   "source": [
    "# Save the graph\n",
    "save_path = f'../../data/graphs/{period}_Lspace.graphml'\n",
    "g_L_space.write_graphml(save_path)\n"
   ]
  }
 ],
 "metadata": {
  "interpreter": {
   "hash": "d4d1e4263499bec80672ea0156c357c1ee493ec2b1c70f0acce89fc37c4a6abe"
  },
  "kernelspec": {
   "display_name": "Python 3.10.4 ('base')",
   "language": "python",
   "name": "python3"
  },
  "language_info": {
   "codemirror_mode": {
    "name": "ipython",
    "version": 3
   },
   "file_extension": ".py",
   "mimetype": "text/x-python",
   "name": "python",
   "nbconvert_exporter": "python",
   "pygments_lexer": "ipython3",
   "version": "3.10.5"
  },
  "orig_nbformat": 4
 },
 "nbformat": 4,
 "nbformat_minor": 2
}
