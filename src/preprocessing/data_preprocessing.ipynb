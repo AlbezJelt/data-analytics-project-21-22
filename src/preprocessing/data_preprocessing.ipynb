{
 "cells": [
  {
   "cell_type": "code",
   "execution_count": 1,
   "metadata": {},
   "outputs": [],
   "source": [
    "from more_itertools import pairwise\n",
    "import igraph as ig\n",
    "import random\n",
    "import colorsys\n",
    "from datetime import datetime, timedelta\n",
    "import pickle\n",
    "from utils import layout_geo\n"
   ]
  },
  {
   "cell_type": "code",
   "execution_count": 2,
   "metadata": {},
   "outputs": [],
   "source": [
    "period = 'april2022'\n",
    "data_path = f'../../data/{period}/processed'\n"
   ]
  },
  {
   "cell_type": "code",
   "execution_count": 3,
   "metadata": {},
   "outputs": [],
   "source": [
    "def to_stop_tuples(tratte_data):\n",
    "    # Pairwise iteration\n",
    "    for t1, t2 in pairwise(tratte_data.itertuples(index=False)):\n",
    "        if t1.route_id == t2.route_id and t2.stop_sequence > t1.stop_sequence:\n",
    "            departure_time1 = datetime.strptime(\n",
    "                t1.departure_time, \"%H:%M:%S\").time()\n",
    "            departure_time1 = timedelta(\n",
    "                hours=departure_time1.hour, minutes=departure_time1.minute, seconds=departure_time1.second)\n",
    "            arrival_time2 = datetime.strptime(\n",
    "                t2.arrival_time, \"%H:%M:%S\").time()\n",
    "            arrival_time2 = timedelta(\n",
    "                hours=arrival_time2.hour, minutes=arrival_time2.minute, seconds=arrival_time2.second)\n",
    "            yield (t1.route_id, t1.stop_id, t2.stop_id, (arrival_time2 - departure_time1).seconds)\n"
   ]
  },
  {
   "cell_type": "code",
   "execution_count": 4,
   "metadata": {},
   "outputs": [],
   "source": [
    "def rand_color():\n",
    "    h, s, l = random.random(), 0.5 + random.random()/2.0, 0.4 + random.random()/5.0\n",
    "    r, g, b = [int(256*i) for i in colorsys.hls_to_rgb(h, l, s)]\n",
    "    return (r, g, b)\n"
   ]
  },
  {
   "cell_type": "code",
   "execution_count": 5,
   "metadata": {},
   "outputs": [],
   "source": [
    "with open(f'{data_path}/trenord.pickle', 'rb') as data:\n",
    "    calendar, routes, stop_times, stops, trips, tratte, weeks = pickle.load(\n",
    "        data)\n"
   ]
  },
  {
   "cell_type": "code",
   "execution_count": 6,
   "metadata": {},
   "outputs": [
    {
     "data": {
      "text/plain": [
       "(0.17647058823529413, 0.6666666666666666, 0.28627450980392155)"
      ]
     },
     "execution_count": 6,
     "metadata": {},
     "output_type": "execute_result"
    }
   ],
   "source": [
    "tuple([color / 255 for color in rand_color()])"
   ]
  },
  {
   "cell_type": "code",
   "execution_count": 7,
   "metadata": {},
   "outputs": [],
   "source": [
    "# Tratte data\n",
    "tratte_tuple = {(route_id, stop_id1, stop_id2)\n",
    "                for route_id, stop_id1, stop_id2, _ in to_stop_tuples(tratte)}\n",
    "\n",
    "# Routes data\n",
    "routes = {route_id for route_id, _, _ in tratte_tuple}\n",
    "# Routes color\n",
    "routes_color = {route_id: tuple((color / 255 for color in rand_color())) for route_id in routes}\n",
    "# Routes color RGB\n",
    "routes_color_rgb = {route_id: f\"rgb{rand_color()}\" for route_id in routes}\n"
   ]
  },
  {
   "cell_type": "code",
   "execution_count": 8,
   "metadata": {},
   "outputs": [],
   "source": [
    "from itertools import groupby\n",
    "from statistics import mean\n",
    "\n",
    "keyfunct = key = lambda v: (lambda route_id1, stop_id1, stop_id2, _: (\n",
    "    route_id1, stop_id1, stop_id2))(*v)\n",
    "grouped = groupby(sorted(to_stop_tuples(tratte), key=keyfunct), key=keyfunct)\n",
    "tratta_time = {k: mean(tratta_time for _, _, _, tratta_time in g)\n",
    "               for k, g in grouped}\n"
   ]
  },
  {
   "cell_type": "code",
   "execution_count": 9,
   "metadata": {},
   "outputs": [],
   "source": [
    "g = ig.Graph(directed=True)\n",
    "\n",
    "g.add_vertices(\n",
    "    n=stops.stop_id,\n",
    "    attributes={\n",
    "        'label': stops.stop_name,\n",
    "        'lat': stops.stop_lat,\n",
    "        'lon': stops.stop_lon\n",
    "    }\n",
    ")\n",
    "\n",
    "g.add_edges(\n",
    "    es=[(stop_id1, stop_id2) for _, stop_id1, stop_id2 in tratte_tuple],\n",
    "    attributes={\n",
    "        'label': [route_id for route_id, _, _ in tratte_tuple],\n",
    "        'color': [routes_color[route_id] for route_id, _, _ in tratte_tuple],\n",
    "        'color_rgb': [routes_color_rgb[route_id] for route_id, _, _ in tratte_tuple],\n",
    "        'time_second': [tratta_time[route_id, stop_id1, stop_id2] for route_id, stop_id1, stop_id2 in tratte_tuple]\n",
    "    }\n",
    ")\n"
   ]
  },
  {
   "cell_type": "code",
   "execution_count": 10,
   "metadata": {},
   "outputs": [],
   "source": [
    "# Adding num_train\n",
    "g.es['num_train'] = 0.0\n",
    "for l1, l2 in pairwise(weeks.itertuples(index=False)):\n",
    "    if l1.trip_short_name == l2.trip_short_name and l2.stop_sequence > l1.stop_sequence:\n",
    "        edge = g.es.select(\n",
    "            _source=g.vs(name=l1.stop_id)[0].index,\n",
    "            _target=g.vs(name=l2.stop_id)[0].index,\n",
    "            label=l1.route_id\n",
    "        )\n",
    "        if len(edge) == 1:\n",
    "            edge[0]['num_train'] = edge[0]['num_train'] + \\\n",
    "                (l1.times_in_week / 7.0)\n"
   ]
  },
  {
   "cell_type": "code",
   "execution_count": 11,
   "metadata": {},
   "outputs": [],
   "source": [
    "g = g.subgraph_edges(g.es.select(num_train_gt=0, time_second_gt=0))\n"
   ]
  },
  {
   "cell_type": "code",
   "execution_count": 12,
   "metadata": {},
   "outputs": [],
   "source": [
    "# Save the graph\n",
    "save_path = '../../data/graphs/' + period + '.graphml'\n",
    "g.write_graphml(save_path)\n"
   ]
  },
  {
   "cell_type": "code",
   "execution_count": 13,
   "metadata": {},
   "outputs": [],
   "source": [
    "visual_style = {\n",
    "    \"layout\": layout_geo(g)\n",
    "}\n",
    "\n",
    "ig.plot(g, bbox=(0, 0, 3000, 3000), **visual_style);\n"
   ]
  }
 ],
 "metadata": {
  "interpreter": {
   "hash": "d4d1e4263499bec80672ea0156c357c1ee493ec2b1c70f0acce89fc37c4a6abe"
  },
  "kernelspec": {
   "display_name": "Python 3.9.12 ('base')",
   "language": "python",
   "name": "python3"
  },
  "language_info": {
   "codemirror_mode": {
    "name": "ipython",
    "version": 3
   },
   "file_extension": ".py",
   "mimetype": "text/x-python",
   "name": "python",
   "nbconvert_exporter": "python",
   "pygments_lexer": "ipython3",
   "version": "3.10.4"
  },
  "orig_nbformat": 4
 },
 "nbformat": 4,
 "nbformat_minor": 2
}
